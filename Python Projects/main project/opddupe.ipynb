{
 "cells": [
  {
   "cell_type": "code",
   "execution_count": null,
   "id": "f32700cc",
   "metadata": {},
   "outputs": [],
   "source": [
    "import warnings\n",
    "warnings.filterwarnings(\"ignore\")\n"
   ]
  },
  {
   "cell_type": "code",
   "execution_count": null,
   "id": "6da645ce",
   "metadata": {},
   "outputs": [],
   "source": [
    "from tabulate import tabulate \n",
    "import pandas as pd\n",
    "import mysql.connector\n",
    "connection=mysql.connector.connect(\n",
    "host='localhost',\n",
    "user='root',\n",
    "password='sairam',\n",
    "database='mainproject_db',\n",
    ")\n",
    "if connection.is_connected:\n",
    "    print(\"connection established\")\n",
    "    cursor = connection.cursor()\n",
    "\n",
    "    def add_doc():\n",
    "        try:\n",
    "            idno = int(input(\"enter your opd no: \"))\n",
    "            name = input(\"enter patient name: \")\n",
    "            doctname = input(\"enter doctor name: \")\n",
    "            docfee = int(input(\"enter docfee: \"))\n",
    "\n",
    "            insert_query = \"INSERT INTO opd(opdno, pname, dname, fee) VALUES (%s, %s, %s, %s)\"\n",
    "            values = (idno, name, doctname, docfee)\n",
    "            cursor.execute(insert_query, values)\n",
    "            connection.commit()\n",
    "            print(\"Inserted a row into the table opd\")\n",
    "\n",
    "        except mysql.connector.Error as err:\n",
    "            print(f\"Error: {err}\")\n",
    "        except Exception as e:\n",
    "            print(f\"Exception: {e}\")\n",
    "\n",
    "    # Example usage of the add_doc function\n",
    "    #add_doc()\n",
    "\n",
    "# Close the connection\n",
    "    \"\"\"connection.close()\n",
    "else:\n",
    "    print(\"Connection failed.\")\n",
    "\"\"\""
   ]
  },
  {
   "cell_type": "code",
   "execution_count": null,
   "id": "9eb69d66",
   "metadata": {},
   "outputs": [],
   "source": [
    "idno, name, doctname, docfee"
   ]
  },
  {
   "cell_type": "code",
   "execution_count": 1,
   "id": "0baccaf9",
   "metadata": {},
   "outputs": [
    {
     "name": "stdout",
     "output_type": "stream",
     "text": [
      "connection established\n",
      "enter your opd no: 2\n",
      "enter patient name: sal\n",
      "enter doctor name: dal\n",
      "enter docfee: 900\n",
      "Inserted a row into the table opd\n"
     ]
    },
    {
     "ename": "TypeError",
     "evalue": "cannot unpack non-iterable NoneType object",
     "output_type": "error",
     "traceback": [
      "\u001b[1;31m---------------------------------------------------------------------------\u001b[0m",
      "\u001b[1;31mTypeError\u001b[0m                                 Traceback (most recent call last)",
      "Cell \u001b[1;32mIn[1], line 38\u001b[0m\n\u001b[0;32m     35\u001b[0m             \u001b[38;5;28mprint\u001b[39m(\u001b[38;5;124mf\u001b[39m\u001b[38;5;124m\"\u001b[39m\u001b[38;5;124mException: \u001b[39m\u001b[38;5;132;01m{\u001b[39;00me\u001b[38;5;132;01m}\u001b[39;00m\u001b[38;5;124m\"\u001b[39m)\n\u001b[0;32m     37\u001b[0m \u001b[38;5;66;03m# Example usage of the add_doc function\u001b[39;00m\n\u001b[1;32m---> 38\u001b[0m idno, name, doctname, docfee \u001b[38;5;241m=\u001b[39m add_doc()\n\u001b[0;32m     40\u001b[0m \u001b[38;5;66;03m# Close the connection\u001b[39;00m\n\u001b[0;32m     41\u001b[0m connection\u001b[38;5;241m.\u001b[39mclose()\n",
      "\u001b[1;31mTypeError\u001b[0m: cannot unpack non-iterable NoneType object"
     ]
    }
   ],
   "source": [
    "from tabulate import tabulate \n",
    "import pandas as pd\n",
    "import mysql.connector\n",
    "\n",
    "connection = mysql.connector.connect(\n",
    "    host='localhost',\n",
    "    user='root',\n",
    "    password='sairam',\n",
    "    database='mainproject_db',\n",
    ")\n",
    "\n",
    "if connection.is_connected:\n",
    "    print(\"connection established\")\n",
    "    cursor = connection.cursor()\n",
    "\n",
    "    def add_doc():\n",
    "        try:\n",
    "            idno = int(input(\"enter your opd no: \"))\n",
    "            name = input(\"enter patient name: \")\n",
    "            doctname = input(\"enter doctor name: \")\n",
    "            docfee = int(input(\"enter docfee: \"))\n",
    "\n",
    "            insert_query = \"INSERT INTO opd(opdno, pname, dname, fee) VALUES (%s, %s, %s, %s)\"\n",
    "            values = (idno, name, doctname, docfee)\n",
    "            cursor.execute(insert_query, values)\n",
    "            connection.commit()\n",
    "            print(\"Inserted a row into the table opd\")\n",
    "\n",
    "            # Return the values from the function\n",
    "            #return idno, name, doctname, docfee\n",
    "\n",
    "        except mysql.connector.Error as err:\n",
    "            print(f\"Error: {err}\")\n",
    "        except Exception as e:\n",
    "            print(f\"Exception: {e}\")\n",
    "\n",
    "# Example usage of the add_doc function\n",
    "idno, name, doctname, docfee = add_doc()\n",
    "\n",
    "# Close the connection\n",
    "connection.close()\n"
   ]
  },
  {
   "cell_type": "code",
   "execution_count": null,
   "id": "3c66f843",
   "metadata": {},
   "outputs": [],
   "source": []
  }
 ],
 "metadata": {
  "kernelspec": {
   "display_name": "Python 3 (ipykernel)",
   "language": "python",
   "name": "python3"
  },
  "language_info": {
   "codemirror_mode": {
    "name": "ipython",
    "version": 3
   },
   "file_extension": ".py",
   "mimetype": "text/x-python",
   "name": "python",
   "nbconvert_exporter": "python",
   "pygments_lexer": "ipython3",
   "version": "3.11.5"
  }
 },
 "nbformat": 4,
 "nbformat_minor": 5
}
