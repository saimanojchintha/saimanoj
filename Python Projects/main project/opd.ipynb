{
 "cells": [
  {
   "cell_type": "code",
   "execution_count": null,
   "id": "43c53634",
   "metadata": {},
   "outputs": [],
   "source": [
    "from datetime import date"
   ]
  },
  {
   "cell_type": "code",
   "execution_count": null,
   "id": "096ccd52",
   "metadata": {},
   "outputs": [],
   "source": [
    "import warnings\n",
    "warnings.filterwarnings(\"ignore\")"
   ]
  },
  {
   "cell_type": "code",
   "execution_count": 5,
   "id": "af0e29b8",
   "metadata": {},
   "outputs": [
    {
     "name": "stdout",
     "output_type": "stream",
     "text": [
      "connection established\n"
     ]
    }
   ],
   "source": [
    "from tabulate import tabulate \n",
    "import pandas as pd\n",
    "import mysql.connector\n",
    "connection=mysql.connector.connect(\n",
    "host='localhost',\n",
    "user='root',\n",
    "password='sairam',\n",
    "database='mainproject_db',\n",
    ")\n",
    "if connection.is_connected():\n",
    "    print('connection established')\n",
    "    cursor=connection.cursor()\n",
    "    def new_opd():\n",
    "        try:\n",
    "            idno = int(input(\"Enter your opdno: \"))\n",
    "            pat_name = input(\"Enter patient name: \")\n",
    "            doc_name = input(\"Enter doctor name: \")\n",
    "            doc_fee = int(input(\"enter doctor fee: \"))\n",
    "            insert_query = f\"INSERT INTO opd (opdno, pname, dname, fee) VALUES (%s, %s, %s, %s)\"\n",
    "            values = (idno, pat_name, doc_name, doc_fee)    \n",
    "            cursor.execute(insert_query, values)\n",
    "            connection.commit()\n",
    "            print(f\"Inserted a row into the table opd\")\n",
    "        except mysql.connector.Error as err1:\n",
    "            print(f\"Error: {err1}\")\n",
    "\n",
    "        except Exception as e1:\n",
    "            print(f\"Exception: {e1}\")\n",
    "    def edit_opd():\n",
    "        try:\n",
    "            idno = int(input(\"Enter the opdno of the record to update: \"))\n",
    "            select_query = \"SELECT opdno FROM opd WHERE opdno = %s\"\n",
    "            cursor.execute(select_query, (idno,))\n",
    "            existing_record = cursor.fetchone()\n",
    "\n",
    "            if existing_record:\n",
    "                new_pat_name = input(\"Enter the new patient name: \")\n",
    "                new_doc_name = input(\"Enter the new doctor name: \")\n",
    "                new_doc_fee = int(input(\"Enter the new doctor fee: \"))\n",
    "        \n",
    "                update_query = \"UPDATE opd SET pname = %s, dname = %s, fee = %s WHERE opdno = %s\"\n",
    "                update_values = (new_pat_name, new_doc_name, new_doc_fee, idno)\n",
    "        \n",
    "                cursor.execute(update_query, update_values)\n",
    "                connection.commit()\n",
    "                print(f\"Updated the record for opdno {idno}\")\n",
    "            else:\n",
    "                print('No such opdno exists')\n",
    "        except mysql.connector.Error as err:\n",
    "            print(f\"Error: {err}\")\n",
    "        except Exception as e:\n",
    "            print(f\"Exception: {e}\")\n",
    "\n",
    "    def delete_opd():\n",
    "        try:\n",
    "            opdno_to_delete = int(input(\"Enter the opdno of the record to delete: \"))\n",
    "            select_query = \"SELECT opdno FROM opd WHERE opdno = %s\"\n",
    "            cursor.execute(select_query, (opdno_to_delete,))\n",
    "            existing_record = cursor.fetchone()\n",
    "\n",
    "            if existing_record:\n",
    "                delete_query = \"DELETE FROM opd WHERE opdno = %s\"\n",
    "                cursor.execute(delete_query, (opdno_to_delete,))\n",
    "                connection.commit()\n",
    "                print(f\"Deleted the record for opdno {opdno_to_delete}\")\n",
    "            else:\n",
    "                print('No such opdno exists')\n",
    "        except mysql.connector.Error as err2:\n",
    "            print(f\"Error: {err2}\")\n",
    "        except Exception as e2:\n",
    "            print(f\"Exception: {e2}\")\n",
    "\n",
    "    def search_opd():\n",
    "        try:\n",
    "            opdno_to_search = int(input(\"Enter the opdno of the record to search: \"))\n",
    "    \n",
    "        # Check if the record with the given opdno exists\n",
    "            select_query = \"SELECT * FROM opd WHERE opdno = %s\"\n",
    "            cursor.execute(select_query, (opdno_to_search,))\n",
    "            existing_record = cursor.fetchone()\n",
    "\n",
    "            if existing_record:\n",
    "                headers = [\"OpdNo\", \"Patient Name\", \"Doctor Name\", \"Doctor Fee\"]\n",
    "                data = [existing_record]\n",
    "\n",
    "                table = tabulate(data, headers=[\"opdno\", \"pname\", \"dname\", \"fee\"], tablefmt=\"grid\")\n",
    "                print(table)\n",
    "            else:\n",
    "                print('No such opdno exists')\n",
    "        except mysql.connector.Error as err:\n",
    "            print(f\"Error: {err}\")\n",
    "        except Exception as e:\n",
    "            print(f\"Exception: {e}\")"
   ]
  },
  {
   "cell_type": "code",
   "execution_count": null,
   "id": "7622dd1a",
   "metadata": {},
   "outputs": [],
   "source": []
  }
 ],
 "metadata": {
  "kernelspec": {
   "display_name": "Python 3 (ipykernel)",
   "language": "python",
   "name": "python3"
  },
  "language_info": {
   "codemirror_mode": {
    "name": "ipython",
    "version": 3
   },
   "file_extension": ".py",
   "mimetype": "text/x-python",
   "name": "python",
   "nbconvert_exporter": "python",
   "pygments_lexer": "ipython3",
   "version": "3.11.5"
  }
 },
 "nbformat": 4,
 "nbformat_minor": 5
}
