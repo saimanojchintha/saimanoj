{
 "cells": [
  {
   "cell_type": "code",
   "execution_count": 1,
   "id": "c427a913",
   "metadata": {},
   "outputs": [
    {
     "name": "stdout",
     "output_type": "stream",
     "text": [
      "['apple', 'banan', 'cat']\n"
     ]
    }
   ],
   "source": [
    "fruits=[\"apple\",\"banan\",\"cat\"]\n",
    "print(fruits)"
   ]
  },
  {
   "cell_type": "code",
   "execution_count": 21,
   "id": "68ad4de3",
   "metadata": {},
   "outputs": [
    {
     "data": {
      "text/plain": [
       "2"
      ]
     },
     "execution_count": 21,
     "metadata": {},
     "output_type": "execute_result"
    }
   ],
   "source": [
    "fruits=[\"keerthana\",\"sai\"]\n",
    "len(fruits)"
   ]
  },
  {
   "cell_type": "code",
   "execution_count": 16,
   "id": "ff6da11c",
   "metadata": {},
   "outputs": [
    {
     "name": "stdout",
     "output_type": "stream",
     "text": [
      "['apple', 'banan', 'cat', 'dog']\n"
     ]
    }
   ],
   "source": [
    "fruits=[\"apple\",\"banan\",\"cat\"]\n",
    "fruits.append(\"dog\")\n",
    "print(fruits)"
   ]
  },
  {
   "cell_type": "code",
   "execution_count": 5,
   "id": "53355fff",
   "metadata": {},
   "outputs": [
    {
     "name": "stdout",
     "output_type": "stream",
     "text": [
      "['apple', 'bat', 'banan', 'cat', 'dog']\n"
     ]
    }
   ],
   "source": [
    "fruits=[\"apple\",\"banan\",\"cat\",\"dog\"]\n",
    "fruits.insert(1,\"bat\")\n",
    "print(fruits)\n"
   ]
  },
  {
   "cell_type": "code",
   "execution_count": 6,
   "id": "60cd0344",
   "metadata": {},
   "outputs": [
    {
     "name": "stdout",
     "output_type": "stream",
     "text": [
      "['apple', 'bat', 'banan', 'cat', 'dog', 'potato', 'bendakai', 'chutney']\n"
     ]
    }
   ],
   "source": [
    "vegetables=[\"potato\",\"bendakai\",\"chutney\"]\n",
    "fruits.extend(vegetables)\n",
    "print(fruits)"
   ]
  },
  {
   "cell_type": "code",
   "execution_count": 10,
   "id": "4e44529a",
   "metadata": {},
   "outputs": [
    {
     "data": {
      "text/plain": [
       "['apple', 'bat', 'banan', 'cat', 'dog']"
      ]
     },
     "execution_count": 10,
     "metadata": {},
     "output_type": "execute_result"
    }
   ],
   "source": [
    "fruits=['apple', 'bat', 'banan', 'cat', 'dog', 'potato', 'bendakai', 'chutney']\n",
    "fruits[0:5]"
   ]
  },
  {
   "cell_type": "code",
   "execution_count": 11,
   "id": "fc0f9db9",
   "metadata": {},
   "outputs": [
    {
     "name": "stdout",
     "output_type": "stream",
     "text": [
      "['apple', 'banan', 'bat', 'bendakai', 'cat', 'chutney', 'dog', 'potato']\n"
     ]
    }
   ],
   "source": [
    "fruits=['apple', 'bat', 'banan', 'cat', 'dog', 'potato', 'bendakai', 'chutney']\n",
    "fruits.sort()\n",
    "print(fruits)"
   ]
  },
  {
   "cell_type": "code",
   "execution_count": 12,
   "id": "8220fce7",
   "metadata": {},
   "outputs": [
    {
     "name": "stdout",
     "output_type": "stream",
     "text": [
      "['potato', 'dog', 'chutney', 'cat', 'bendakai', 'bat', 'banan', 'apple']\n"
     ]
    }
   ],
   "source": [
    "fruits=['apple', 'bat', 'banan', 'cat', 'dog', 'potato', 'bendakai', 'chutney']\n",
    "fruits.sort(reverse=True)\n",
    "print(fruits)"
   ]
  },
  {
   "cell_type": "code",
   "execution_count": 13,
   "id": "0f922835",
   "metadata": {},
   "outputs": [
    {
     "name": "stdout",
     "output_type": "stream",
     "text": [
      "apple\n",
      "bat\n",
      "banan\n"
     ]
    }
   ],
   "source": [
    "fruits=['apple', 'bat', 'banan', 'cat', 'dog', 'potato', 'bendakai', 'chutney']\n",
    "for i in fruits:\n",
    "    if i==\"cat\":\n",
    "        break\n",
    "    print(i)\n",
    "    "
   ]
  },
  {
   "cell_type": "code",
   "execution_count": 14,
   "id": "369cd94b",
   "metadata": {},
   "outputs": [
    {
     "name": "stdout",
     "output_type": "stream",
     "text": [
      "apple\n",
      "bat\n",
      "banan\n",
      "cat\n",
      "potato\n",
      "bendakai\n",
      "chutney\n"
     ]
    }
   ],
   "source": [
    "fruits=['apple', 'bat', 'banan', 'cat', 'dog', 'potato', 'bendakai', 'chutney']\n",
    "for i in fruits:\n",
    "    if i==\"dog\":\n",
    "        continue\n",
    "    print(i)\n",
    "    "
   ]
  },
  {
   "cell_type": "code",
   "execution_count": 15,
   "id": "3df3e099",
   "metadata": {},
   "outputs": [
    {
     "name": "stdout",
     "output_type": "stream",
     "text": [
      "apple\n",
      "bat\n",
      "banan\n",
      "cat\n",
      "dog\n",
      "potato\n",
      "bendakai\n",
      "chutney\n"
     ]
    }
   ],
   "source": [
    "fruits=['apple', 'bat', 'banan', 'cat', 'dog', 'potato', 'bendakai', 'chutney']\n",
    "for i in fruits:\n",
    "    if i==\"dog\":\n",
    "        pass\n",
    "    print(i)\n",
    "    "
   ]
  },
  {
   "cell_type": "code",
   "execution_count": 1,
   "id": "a4bb1b08",
   "metadata": {},
   "outputs": [
    {
     "name": "stdout",
     "output_type": "stream",
     "text": [
      "1\n",
      "2\n",
      "3\n",
      "4\n",
      "5\n",
      "6\n",
      "7\n",
      "8\n",
      "9\n",
      "10\n"
     ]
    }
   ],
   "source": [
    "i=0\n",
    "while i<10:\n",
    "    i=i+1\n",
    "    print(i)"
   ]
  },
  {
   "cell_type": "code",
   "execution_count": 4,
   "id": "5220df3f",
   "metadata": {},
   "outputs": [],
   "source": [
    "a=200\n",
    "b=400\n",
    "if a>b:\n",
    "    print(\"a is greater\")"
   ]
  },
  {
   "cell_type": "code",
   "execution_count": 2,
   "id": "195b3c53",
   "metadata": {},
   "outputs": [
    {
     "name": "stdout",
     "output_type": "stream",
     "text": [
      "a is greater\n"
     ]
    }
   ],
   "source": [
    "a=500\n",
    "b=400\n",
    "if a>b:\n",
    "    print(\"a is greater\")\n",
    "else:\n",
    "    print(\"b is greater\")"
   ]
  },
  {
   "cell_type": "code",
   "execution_count": 6,
   "id": "49f5a535",
   "metadata": {},
   "outputs": [
    {
     "name": "stdout",
     "output_type": "stream",
     "text": [
      "munduku padha\n",
      "ammababoi\n"
     ]
    }
   ],
   "source": [
    "a=500\n",
    "b=300\n",
    "if a>400:\n",
    "    if a>450:\n",
    "        print(\"munduku padha\")\n",
    "        if a>499:\n",
    "            print(\"ammababoi\")\n",
    "else:\n",
    "    print(\"nannababoi\")"
   ]
  },
  {
   "cell_type": "code",
   "execution_count": null,
   "id": "6e9d777f",
   "metadata": {},
   "outputs": [],
   "source": []
  }
 ],
 "metadata": {
  "kernelspec": {
   "display_name": "Python 3 (ipykernel)",
   "language": "python",
   "name": "python3"
  },
  "language_info": {
   "codemirror_mode": {
    "name": "ipython",
    "version": 3
   },
   "file_extension": ".py",
   "mimetype": "text/x-python",
   "name": "python",
   "nbconvert_exporter": "python",
   "pygments_lexer": "ipython3",
   "version": "3.11.5"
  }
 },
 "nbformat": 4,
 "nbformat_minor": 5
}
