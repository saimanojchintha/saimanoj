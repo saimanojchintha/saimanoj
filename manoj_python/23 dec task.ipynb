{
 "cells": [
  {
   "cell_type": "code",
   "execution_count": 3,
   "id": "a1a7cb45",
   "metadata": {},
   "outputs": [
    {
     "name": "stdout",
     "output_type": "stream",
     "text": [
      "2021563500"
     ]
    }
   ],
   "source": [
    "#1.\tGet only the numbers in a sentence like ‘In 2021 there were 56 instances of a protest with over 3500 people attending’\n",
    "str1=\"In 2021 there were 56 instances of a protest with over 3500 people attending\"\n",
    "for i in str1:\n",
    "    if i.isdigit():\n",
    "        print(i,end=\"\")"
   ]
  },
  {
   "cell_type": "code",
   "execution_count": 94,
   "id": "57d02a3f",
   "metadata": {},
   "outputs": [
    {
     "name": "stdout",
     "output_type": "stream",
     "text": [
      "[2, 3, 4, 5, 6, 7, 8, 9, 10, 12, 14, 15, 16, 18, 20, 21, 22, 24, 25, 26, 27, 28, 30, 32, 33, 34, 35, 36, 38, 39, 40, 42, 44, 45, 46, 48, 49, 50, 51, 52, 54, 55, 56, 57, 58, 60, 62, 63, 64, 65, 66, 68, 69, 70, 72, 74, 75, 76, 77, 78, 80, 81, 82, 84, 85, 86, 87, 88, 90, 91, 92, 93, 94, 95, 96, 98, 99, 100]\n"
     ]
    }
   ],
   "source": [
    "#2.\tUse a nested list comprehension to find all of the numbers from 1-1000 that are \n",
    "#divisible by any single digit besides 1 (2-9)\n",
    "my_list=[i for i in range(1,101) if any(i%j==0 for j in range(2,10))]\n",
    "print(my_list)\n"
   ]
  },
  {
   "cell_type": "code",
   "execution_count": null,
   "id": "9a9e9ddb",
   "metadata": {},
   "outputs": [],
   "source": []
  },
  {
   "cell_type": "code",
   "execution_count": 70,
   "id": "d157cebb",
   "metadata": {},
   "outputs": [
    {
     "data": {
      "text/plain": [
       "13"
      ]
     },
     "execution_count": 70,
     "metadata": {},
     "output_type": "execute_result"
    }
   ],
   "source": [
    "#4.\tCount the number of spaces in a string ‘In 2021 there were 56 instances of a protest with over 3500 people attending’\n",
    "string=\"In 2021 there were 56 instances of a protest with over 3500 people attending\"\n",
    "string.count(\" \")"
   ]
  },
  {
   "cell_type": "code",
   "execution_count": 95,
   "id": "30063b02",
   "metadata": {},
   "outputs": [
    {
     "name": "stdout",
     "output_type": "stream",
     "text": [
      "enter your number: 36\n",
      "your perfect divisors are 1\n",
      "your perfect divisors are 2\n",
      "your perfect divisors are 3\n",
      "your perfect divisors are 4\n",
      "your perfect divisors are 6\n",
      "your perfect divisors are 9\n",
      "your perfect divisors are 12\n",
      "your perfect divisors are 18\n"
     ]
    }
   ],
   "source": [
    "#5.\tWrite a function that finds the sum of proper divisors of a number.\n",
    "#[ Hint : Proper divisors of a number are those numbers by which the number is divisible, except the number itself. \n",
    "#Ex: Proper divisors of 36 are 1, 2, 3, 4, 6, 9, 12,18 ]\n",
    "\n",
    "n=int(input(\"enter your number: \"))\n",
    "for i in range(1,20):\n",
    "    if n%i==0:\n",
    "        print(f'your perfect divisors are {i}' )"
   ]
  },
  {
   "cell_type": "code",
   "execution_count": 24,
   "id": "aab40c5b",
   "metadata": {},
   "outputs": [
    {
     "name": "stdout",
     "output_type": "stream",
     "text": [
      "120\n"
     ]
    }
   ],
   "source": [
    "#9.Write a program which can compute the factorial of a given numbers.\n",
    "def my_fact(a):\n",
    "    fact=1\n",
    "    for i in range(1,a+1):\n",
    "        fact=fact*i\n",
    "    return(fact)\n",
    "print(my_fact(5))"
   ]
  },
  {
   "cell_type": "code",
   "execution_count": null,
   "id": "35a98523",
   "metadata": {},
   "outputs": [],
   "source": []
  }
 ],
 "metadata": {
  "kernelspec": {
   "display_name": "Python 3 (ipykernel)",
   "language": "python",
   "name": "python3"
  },
  "language_info": {
   "codemirror_mode": {
    "name": "ipython",
    "version": 3
   },
   "file_extension": ".py",
   "mimetype": "text/x-python",
   "name": "python",
   "nbconvert_exporter": "python",
   "pygments_lexer": "ipython3",
   "version": "3.11.5"
  }
 },
 "nbformat": 4,
 "nbformat_minor": 5
}
