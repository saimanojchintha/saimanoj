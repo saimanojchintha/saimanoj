{
 "cells": [
  {
   "cell_type": "code",
   "execution_count": 3,
   "id": "9e51cbf4",
   "metadata": {},
   "outputs": [
    {
     "name": "stdout",
     "output_type": "stream",
     "text": [
      "[1, 2, 3, 4, 5, 6, 7]\n"
     ]
    }
   ],
   "source": [
    "list=[1,2,3,4,5,6,7]\n",
    "print(list)"
   ]
  },
  {
   "cell_type": "code",
   "execution_count": 4,
   "id": "c8979220",
   "metadata": {},
   "outputs": [
    {
     "name": "stdout",
     "output_type": "stream",
     "text": [
      "4\n"
     ]
    }
   ],
   "source": [
    "l=[1,2,3,4,5,6]\n",
    "print(l[3])"
   ]
  },
  {
   "cell_type": "code",
   "execution_count": 5,
   "id": "daa9fabb",
   "metadata": {},
   "outputs": [
    {
     "name": "stdout",
     "output_type": "stream",
     "text": [
      "[1, 2, 3, 4, 5, 6]\n"
     ]
    }
   ],
   "source": [
    "l=[1,2,3,4,5,6]\n",
    "print(l[:])"
   ]
  },
  {
   "cell_type": "code",
   "execution_count": 7,
   "id": "a4d2a7f8",
   "metadata": {},
   "outputs": [
    {
     "name": "stdout",
     "output_type": "stream",
     "text": [
      "[1, 'sai', 3, 4, 5, 6]\n"
     ]
    }
   ],
   "source": [
    "l=[1,2,3,4,5,6]\n",
    "l[1]= \"sai\"\n",
    "print(l)"
   ]
  },
  {
   "cell_type": "code",
   "execution_count": 9,
   "id": "7010dd7e",
   "metadata": {},
   "outputs": [
    {
     "name": "stdout",
     "output_type": "stream",
     "text": [
      "[1, 2, 'sai', 'manoj', 5, 6]\n"
     ]
    }
   ],
   "source": [
    "l=[1,2,3,4,5,6]\n",
    "l[2:4]=\"sai\",\"manoj\"\n",
    "print(l)"
   ]
  },
  {
   "cell_type": "code",
   "execution_count": 10,
   "id": "f2802cf0",
   "metadata": {},
   "outputs": [
    {
     "name": "stdout",
     "output_type": "stream",
     "text": [
      "[1, 2, 'sai', 'manoj', 5, 6, 'saimanoj']\n"
     ]
    }
   ],
   "source": [
    "l=[1, 2, 'sai', 'manoj', 5, 6]\n",
    "l.append(\"saimanoj\")\n",
    "print(l)"
   ]
  },
  {
   "cell_type": "code",
   "execution_count": 11,
   "id": "20623291",
   "metadata": {},
   "outputs": [
    {
     "name": "stdout",
     "output_type": "stream",
     "text": [
      "[1, 'vyshu', 2, 'sai', 'manoj', 5, 6, 'saimanoj']\n"
     ]
    }
   ],
   "source": [
    "l=[1, 2, 'sai', 'manoj', 5, 6, 'saimanoj']\n",
    "l.insert(1,\"vyshu\")\n",
    "print(l)"
   ]
  },
  {
   "cell_type": "code",
   "execution_count": 15,
   "id": "eee2a0b9",
   "metadata": {},
   "outputs": [
    {
     "name": "stdout",
     "output_type": "stream",
     "text": [
      "[1, 'vyshu', 2, 'sai', 'manoj', 5, 6, 'saimanoj', 'sandhya', 'venkat', 'manisha']\n"
     ]
    }
   ],
   "source": [
    "l=[1, 'vyshu', 2, 'sai', 'manoj', 5, 6, 'saimanoj']\n",
    "l.extend([\"sandhya\",\"venkat\",\"manisha\"])\n",
    "print(l)"
   ]
  },
  {
   "cell_type": "code",
   "execution_count": 16,
   "id": "af3997e9",
   "metadata": {},
   "outputs": [
    {
     "name": "stdout",
     "output_type": "stream",
     "text": [
      "['vyshu', 2, 'sai', 'manoj', 5, 6, 'saimanoj', 'sandhya', 'venkat', 'manisha']\n"
     ]
    }
   ],
   "source": [
    "l=[1, 'vyshu', 2, 'sai', 'manoj', 5, 6, 'saimanoj', 'sandhya', 'venkat', 'manisha']\n",
    "l.remove(1)\n",
    "print(l)"
   ]
  },
  {
   "cell_type": "code",
   "execution_count": 20,
   "id": "fc3d0fe6",
   "metadata": {},
   "outputs": [
    {
     "name": "stdout",
     "output_type": "stream",
     "text": [
      "[1, 2, 'sai', 'manoj', 5, 6, 'saimanoj', 'sandhya', 'venkat', 'manisha']\n"
     ]
    }
   ],
   "source": [
    "l=[1, 'vyshu', 2, 'sai', 'manoj', 5, 6, 'saimanoj', 'sandhya', 'venkat', 'manisha']\n",
    "del l[1]\n",
    "print(l)"
   ]
  },
  {
   "cell_type": "code",
   "execution_count": 21,
   "id": "ef9ad44a",
   "metadata": {},
   "outputs": [
    {
     "name": "stdout",
     "output_type": "stream",
     "text": [
      "[1, 'vyshu', 'sai', 'manoj', 5, 6, 'saimanoj', 'sandhya', 'venkat', 'manisha']\n"
     ]
    }
   ],
   "source": [
    "l=[1, 'vyshu', 2, 'sai', 'manoj', 5, 6, 'saimanoj', 'sandhya', 'venkat', 'manisha']\n",
    "l.pop(2)\n",
    "print(l)"
   ]
  },
  {
   "cell_type": "code",
   "execution_count": 23,
   "id": "95ca56ba",
   "metadata": {},
   "outputs": [
    {
     "name": "stdout",
     "output_type": "stream",
     "text": [
      "['manisha', 'venkat', 'sandhya', 'saimanoj', 6, 5, 'manoj', 'sai', 2, 'vyshu', 1]\n"
     ]
    }
   ],
   "source": [
    "l=[1, 'vyshu', 2, 'sai', 'manoj', 5, 6, 'saimanoj', 'sandhya', 'venkat', 'manisha']\n",
    "l.reverse()\n",
    "print(l)"
   ]
  },
  {
   "cell_type": "code",
   "execution_count": 25,
   "id": "7ea70058",
   "metadata": {},
   "outputs": [
    {
     "name": "stdout",
     "output_type": "stream",
     "text": [
      "['manisha', 'venkat', 'sandhya', 'saimanoj', 6, 5, 'manoj', 'sai', 2, 'vyshu', 1]\n"
     ]
    }
   ],
   "source": [
    "l=[1, 'vyshu', 2, 'sai', 'manoj', 5, 6, 'saimanoj', 'sandhya', 'venkat', 'manisha']\n",
    "print(l[::-1])"
   ]
  },
  {
   "cell_type": "code",
   "execution_count": null,
   "id": "4f7a60dd",
   "metadata": {},
   "outputs": [],
   "source": []
  }
 ],
 "metadata": {
  "kernelspec": {
   "display_name": "Python 3 (ipykernel)",
   "language": "python",
   "name": "python3"
  },
  "language_info": {
   "codemirror_mode": {
    "name": "ipython",
    "version": 3
   },
   "file_extension": ".py",
   "mimetype": "text/x-python",
   "name": "python",
   "nbconvert_exporter": "python",
   "pygments_lexer": "ipython3",
   "version": "3.11.5"
  }
 },
 "nbformat": 4,
 "nbformat_minor": 5
}
