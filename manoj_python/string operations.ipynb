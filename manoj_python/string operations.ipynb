{
 "cells": [
  {
   "cell_type": "code",
   "execution_count": 1,
   "id": "9e91f6eb",
   "metadata": {},
   "outputs": [
    {
     "name": "stdout",
     "output_type": "stream",
     "text": [
      "iam \n"
     ]
    }
   ],
   "source": [
    "a=\"iam a good boy\"\n",
    "print(a[0:4])"
   ]
  },
  {
   "cell_type": "code",
   "execution_count": 2,
   "id": "f532d2e0",
   "metadata": {},
   "outputs": [
    {
     "name": "stdout",
     "output_type": "stream",
     "text": [
      "yob doog a mai\n"
     ]
    }
   ],
   "source": [
    "a=\"iam a good boy\"\n",
    "print(a[::-1])"
   ]
  },
  {
   "cell_type": "code",
   "execution_count": 5,
   "id": "6c2283a6",
   "metadata": {},
   "outputs": [
    {
     "name": "stdout",
     "output_type": "stream",
     "text": [
      "iam a good bo\n"
     ]
    }
   ],
   "source": [
    "a=\"iam a good boy\"\n",
    "print(a[:-1])"
   ]
  },
  {
   "cell_type": "code",
   "execution_count": 6,
   "id": "9be5f47a",
   "metadata": {},
   "outputs": [
    {
     "name": "stdout",
     "output_type": "stream",
     "text": [
      "14\n"
     ]
    }
   ],
   "source": [
    "a=\"iam a good boy\"\n",
    "print(len(a))"
   ]
  },
  {
   "cell_type": "code",
   "execution_count": 3,
   "id": "c030397e",
   "metadata": {},
   "outputs": [
    {
     "name": "stdout",
     "output_type": "stream",
     "text": [
      "  IAM A GOOD BOY  \n",
      "  iam a good boy  \n",
      "  iam a good boy  \n",
      "False\n",
      "iam a good boy\n",
      "  iam a bad boy  \n",
      "['iam', 'a', 'good', 'boy']\n"
     ]
    }
   ],
   "source": [
    "a=\"  iam a good boy  \"\n",
    "print(a.upper())\n",
    "print(a.lower())\n",
    "print(a.capitalize())\n",
    "print(a.isupper())\n",
    "print(a.strip())\n",
    "print(a.replace(\"good\",\"bad\"))\n",
    "print(a.split())\n"
   ]
  },
  {
   "cell_type": "code",
   "execution_count": 23,
   "id": "943eeb64",
   "metadata": {},
   "outputs": [
    {
     "name": "stdout",
     "output_type": "stream",
     "text": [
      "sai is a good boy and welcome to mitraz\n"
     ]
    }
   ],
   "source": [
    "a=\"sai is a good boy\"\n",
    "b=\"welcome to mitraz\"\n",
    "print(a+\" and \"+b)\n"
   ]
  },
  {
   "cell_type": "code",
   "execution_count": 31,
   "id": "88bfa2ec",
   "metadata": {},
   "outputs": [
    {
     "name": "stdout",
     "output_type": "stream",
     "text": [
      "my dear mitrazians welcome to mitraz\n"
     ]
    }
   ],
   "source": [
    "b=\"welcome to mitraz\"\n",
    "c=\"my dear mitrazians {}\"\n",
    "print(c.format(b))"
   ]
  },
  {
   "cell_type": "code",
   "execution_count": null,
   "id": "a9f1c227",
   "metadata": {},
   "outputs": [],
   "source": []
  }
 ],
 "metadata": {
  "kernelspec": {
   "display_name": "Python 3 (ipykernel)",
   "language": "python",
   "name": "python3"
  },
  "language_info": {
   "codemirror_mode": {
    "name": "ipython",
    "version": 3
   },
   "file_extension": ".py",
   "mimetype": "text/x-python",
   "name": "python",
   "nbconvert_exporter": "python",
   "pygments_lexer": "ipython3",
   "version": "3.11.5"
  }
 },
 "nbformat": 4,
 "nbformat_minor": 5
}
