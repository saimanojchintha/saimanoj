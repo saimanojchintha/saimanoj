{
 "cells": [
  {
   "cell_type": "code",
   "execution_count": 4,
   "id": "d2d1f5cf",
   "metadata": {},
   "outputs": [
    {
     "name": "stdout",
     "output_type": "stream",
     "text": [
      "0    1\n",
      "1    2\n",
      "2    3\n",
      "dtype: int64\n"
     ]
    }
   ],
   "source": [
    "import pandas as pd\n",
    "amazon=[1,2,3]\n",
    "flipcart=pd.Series(amazon)\n",
    "print(flipcart)"
   ]
  },
  {
   "cell_type": "code",
   "execution_count": 5,
   "id": "359afb8c",
   "metadata": {},
   "outputs": [
    {
     "name": "stdout",
     "output_type": "stream",
     "text": [
      "x    1\n",
      "y    2\n",
      "z    3\n",
      "dtype: int64\n"
     ]
    }
   ],
   "source": [
    "import pandas as pd\n",
    "amazon=[1,2,3]\n",
    "flipcart=pd.Series(amazon,index=[\"x\",\"y\",\"z\"])\n",
    "print(flipcart)"
   ]
  },
  {
   "cell_type": "code",
   "execution_count": 10,
   "id": "328c1c72",
   "metadata": {},
   "outputs": [
    {
     "name": "stdout",
     "output_type": "stream",
     "text": [
      "                 Item  In stock\n",
      "0            bodywear        55\n",
      "1          accesories        34\n",
      "2  electronic gadgets        55\n"
     ]
    }
   ],
   "source": [
    "#creating data set\n",
    "\n",
    "import pandas as pd\n",
    "shopsy={\n",
    "    'Item':[\"bodywear\",\"accesories\",\"electronic gadgets\"],\n",
    "    'In stock':[55,34,55]\n",
    "}\n",
    "business=pd.DataFrame(shopsy)\n",
    "print(business)"
   ]
  },
  {
   "cell_type": "code",
   "execution_count": 19,
   "id": "0ca4b485",
   "metadata": {},
   "outputs": [
    {
     "name": "stdout",
     "output_type": "stream",
     "text": [
      "         Item  In stock gender\n",
      "0     causals        55   kids\n",
      "1      frocks        34  girls\n",
      "2     tshirts        55    men\n",
      "3  chudidhars        78  women\n"
     ]
    }
   ],
   "source": [
    "import pandas as pd\n",
    "shopsy={\n",
    "    'Item':[\"causals\",\"frocks\",\"tshirts\",\"chudidhars\"],\n",
    "    'In stock':[55,34,55,78],\n",
    "    'gender':[\"kids\",\"girls\",\"men\",\"women\"]\n",
    "}\n",
    "df=pd.DataFrame(shopsy)\n",
    "print(df)"
   ]
  },
  {
   "cell_type": "code",
   "execution_count": 20,
   "id": "829c5d2a",
   "metadata": {},
   "outputs": [
    {
     "data": {
      "text/html": [
       "<div>\n",
       "<style scoped>\n",
       "    .dataframe tbody tr th:only-of-type {\n",
       "        vertical-align: middle;\n",
       "    }\n",
       "\n",
       "    .dataframe tbody tr th {\n",
       "        vertical-align: top;\n",
       "    }\n",
       "\n",
       "    .dataframe thead th {\n",
       "        text-align: right;\n",
       "    }\n",
       "</style>\n",
       "<table border=\"1\" class=\"dataframe\">\n",
       "  <thead>\n",
       "    <tr style=\"text-align: right;\">\n",
       "      <th></th>\n",
       "      <th>Item</th>\n",
       "      <th>In stock</th>\n",
       "      <th>gender</th>\n",
       "    </tr>\n",
       "  </thead>\n",
       "  <tbody>\n",
       "    <tr>\n",
       "      <th>0</th>\n",
       "      <td>causals</td>\n",
       "      <td>55</td>\n",
       "      <td>kids</td>\n",
       "    </tr>\n",
       "    <tr>\n",
       "      <th>1</th>\n",
       "      <td>frocks</td>\n",
       "      <td>34</td>\n",
       "      <td>girls</td>\n",
       "    </tr>\n",
       "    <tr>\n",
       "      <th>2</th>\n",
       "      <td>tshirts</td>\n",
       "      <td>55</td>\n",
       "      <td>men</td>\n",
       "    </tr>\n",
       "    <tr>\n",
       "      <th>3</th>\n",
       "      <td>chudidhars</td>\n",
       "      <td>78</td>\n",
       "      <td>women</td>\n",
       "    </tr>\n",
       "  </tbody>\n",
       "</table>\n",
       "</div>"
      ],
      "text/plain": [
       "         Item  In stock gender\n",
       "0     causals        55   kids\n",
       "1      frocks        34  girls\n",
       "2     tshirts        55    men\n",
       "3  chudidhars        78  women"
      ]
     },
     "execution_count": 20,
     "metadata": {},
     "output_type": "execute_result"
    }
   ],
   "source": [
    "df"
   ]
  },
  {
   "cell_type": "code",
   "execution_count": 21,
   "id": "55699fe4",
   "metadata": {},
   "outputs": [
    {
     "data": {
      "text/plain": [
       "Index(['Item', 'In stock', 'gender'], dtype='object')"
      ]
     },
     "execution_count": 21,
     "metadata": {},
     "output_type": "execute_result"
    }
   ],
   "source": [
    "df.columns"
   ]
  },
  {
   "cell_type": "code",
   "execution_count": 22,
   "id": "a39db6f8",
   "metadata": {},
   "outputs": [
    {
     "data": {
      "text/plain": [
       "(4, 3)"
      ]
     },
     "execution_count": 22,
     "metadata": {},
     "output_type": "execute_result"
    }
   ],
   "source": [
    "df.shape"
   ]
  },
  {
   "cell_type": "code",
   "execution_count": 23,
   "id": "b6e5dc44",
   "metadata": {},
   "outputs": [
    {
     "data": {
      "text/plain": [
       "<bound method DataFrame.info of          Item  In stock gender\n",
       "0     causals        55   kids\n",
       "1      frocks        34  girls\n",
       "2     tshirts        55    men\n",
       "3  chudidhars        78  women>"
      ]
     },
     "execution_count": 23,
     "metadata": {},
     "output_type": "execute_result"
    }
   ],
   "source": [
    "df.info"
   ]
  },
  {
   "cell_type": "code",
   "execution_count": 27,
   "id": "8beb7960",
   "metadata": {},
   "outputs": [
    {
     "name": "stdout",
     "output_type": "stream",
     "text": [
      "           Item  In stock  gender  startingprice\n",
      "0       causals        55    kids           4000\n",
      "1        frocks        34   girls          10000\n",
      "2       tshirts        55     men            500\n",
      "3    chudidhars        78   women          20000\n",
      "4   westrenwear        87    boys           8000\n",
      "5       formals        55     men          23333\n",
      "6  ethinic wear        22    kids           6999\n",
      "7       jackets        33     men           2222\n",
      "8     shervaani        11  ladies          77777\n",
      "9        kurtas        77    boys          88888\n"
     ]
    }
   ],
   "source": [
    "import pandas as pd\n",
    "shopsy={\n",
    "    'Item':[\"causals\",\"frocks\",\"tshirts\",\"chudidhars\",\"westrenwear\",\"formals\",\"ethinic wear\",\"jackets\",\"shervaani\",\"kurtas\"],\n",
    "    'In stock':[55,34,55,78,87,55,22,33,11,77],\n",
    "    'gender':[\"kids\",\"girls\",\"men\",\"women\",\"boys\",\"men\",\"kids\",\"men\",\"ladies\",\"boys\"],\n",
    "    'startingprice':[4000,10000,500,20000,8000,23333,6999,2222,77777,88888]\n",
    "}\n",
    "df=pd.DataFrame(shopsy)\n",
    "print(df)"
   ]
  },
  {
   "cell_type": "code",
   "execution_count": 28,
   "id": "cafb3072",
   "metadata": {},
   "outputs": [
    {
     "data": {
      "text/html": [
       "<div>\n",
       "<style scoped>\n",
       "    .dataframe tbody tr th:only-of-type {\n",
       "        vertical-align: middle;\n",
       "    }\n",
       "\n",
       "    .dataframe tbody tr th {\n",
       "        vertical-align: top;\n",
       "    }\n",
       "\n",
       "    .dataframe thead th {\n",
       "        text-align: right;\n",
       "    }\n",
       "</style>\n",
       "<table border=\"1\" class=\"dataframe\">\n",
       "  <thead>\n",
       "    <tr style=\"text-align: right;\">\n",
       "      <th></th>\n",
       "      <th>Item</th>\n",
       "      <th>In stock</th>\n",
       "      <th>gender</th>\n",
       "      <th>startingprice</th>\n",
       "    </tr>\n",
       "  </thead>\n",
       "  <tbody>\n",
       "    <tr>\n",
       "      <th>0</th>\n",
       "      <td>causals</td>\n",
       "      <td>55</td>\n",
       "      <td>kids</td>\n",
       "      <td>4000</td>\n",
       "    </tr>\n",
       "    <tr>\n",
       "      <th>1</th>\n",
       "      <td>frocks</td>\n",
       "      <td>34</td>\n",
       "      <td>girls</td>\n",
       "      <td>10000</td>\n",
       "    </tr>\n",
       "    <tr>\n",
       "      <th>2</th>\n",
       "      <td>tshirts</td>\n",
       "      <td>55</td>\n",
       "      <td>men</td>\n",
       "      <td>500</td>\n",
       "    </tr>\n",
       "    <tr>\n",
       "      <th>3</th>\n",
       "      <td>chudidhars</td>\n",
       "      <td>78</td>\n",
       "      <td>women</td>\n",
       "      <td>20000</td>\n",
       "    </tr>\n",
       "    <tr>\n",
       "      <th>4</th>\n",
       "      <td>westrenwear</td>\n",
       "      <td>87</td>\n",
       "      <td>boys</td>\n",
       "      <td>8000</td>\n",
       "    </tr>\n",
       "    <tr>\n",
       "      <th>5</th>\n",
       "      <td>formals</td>\n",
       "      <td>55</td>\n",
       "      <td>men</td>\n",
       "      <td>23333</td>\n",
       "    </tr>\n",
       "    <tr>\n",
       "      <th>6</th>\n",
       "      <td>ethinic wear</td>\n",
       "      <td>22</td>\n",
       "      <td>kids</td>\n",
       "      <td>6999</td>\n",
       "    </tr>\n",
       "    <tr>\n",
       "      <th>7</th>\n",
       "      <td>jackets</td>\n",
       "      <td>33</td>\n",
       "      <td>men</td>\n",
       "      <td>2222</td>\n",
       "    </tr>\n",
       "    <tr>\n",
       "      <th>8</th>\n",
       "      <td>shervaani</td>\n",
       "      <td>11</td>\n",
       "      <td>ladies</td>\n",
       "      <td>77777</td>\n",
       "    </tr>\n",
       "    <tr>\n",
       "      <th>9</th>\n",
       "      <td>kurtas</td>\n",
       "      <td>77</td>\n",
       "      <td>boys</td>\n",
       "      <td>88888</td>\n",
       "    </tr>\n",
       "  </tbody>\n",
       "</table>\n",
       "</div>"
      ],
      "text/plain": [
       "           Item  In stock  gender  startingprice\n",
       "0       causals        55    kids           4000\n",
       "1        frocks        34   girls          10000\n",
       "2       tshirts        55     men            500\n",
       "3    chudidhars        78   women          20000\n",
       "4   westrenwear        87    boys           8000\n",
       "5       formals        55     men          23333\n",
       "6  ethinic wear        22    kids           6999\n",
       "7       jackets        33     men           2222\n",
       "8     shervaani        11  ladies          77777\n",
       "9        kurtas        77    boys          88888"
      ]
     },
     "execution_count": 28,
     "metadata": {},
     "output_type": "execute_result"
    }
   ],
   "source": [
    "df"
   ]
  },
  {
   "cell_type": "code",
   "execution_count": 29,
   "id": "ea33f051",
   "metadata": {},
   "outputs": [
    {
     "data": {
      "text/plain": [
       "(10, 4)"
      ]
     },
     "execution_count": 29,
     "metadata": {},
     "output_type": "execute_result"
    }
   ],
   "source": [
    "df.shape"
   ]
  },
  {
   "cell_type": "code",
   "execution_count": 30,
   "id": "7951692a",
   "metadata": {},
   "outputs": [
    {
     "data": {
      "text/html": [
       "<div>\n",
       "<style scoped>\n",
       "    .dataframe tbody tr th:only-of-type {\n",
       "        vertical-align: middle;\n",
       "    }\n",
       "\n",
       "    .dataframe tbody tr th {\n",
       "        vertical-align: top;\n",
       "    }\n",
       "\n",
       "    .dataframe thead th {\n",
       "        text-align: right;\n",
       "    }\n",
       "</style>\n",
       "<table border=\"1\" class=\"dataframe\">\n",
       "  <thead>\n",
       "    <tr style=\"text-align: right;\">\n",
       "      <th></th>\n",
       "      <th>Item</th>\n",
       "      <th>In stock</th>\n",
       "      <th>gender</th>\n",
       "      <th>startingprice</th>\n",
       "    </tr>\n",
       "  </thead>\n",
       "  <tbody>\n",
       "    <tr>\n",
       "      <th>0</th>\n",
       "      <td>causals</td>\n",
       "      <td>55</td>\n",
       "      <td>kids</td>\n",
       "      <td>4000</td>\n",
       "    </tr>\n",
       "    <tr>\n",
       "      <th>1</th>\n",
       "      <td>frocks</td>\n",
       "      <td>34</td>\n",
       "      <td>girls</td>\n",
       "      <td>10000</td>\n",
       "    </tr>\n",
       "    <tr>\n",
       "      <th>2</th>\n",
       "      <td>tshirts</td>\n",
       "      <td>55</td>\n",
       "      <td>men</td>\n",
       "      <td>500</td>\n",
       "    </tr>\n",
       "    <tr>\n",
       "      <th>3</th>\n",
       "      <td>chudidhars</td>\n",
       "      <td>78</td>\n",
       "      <td>women</td>\n",
       "      <td>20000</td>\n",
       "    </tr>\n",
       "    <tr>\n",
       "      <th>4</th>\n",
       "      <td>westrenwear</td>\n",
       "      <td>87</td>\n",
       "      <td>boys</td>\n",
       "      <td>8000</td>\n",
       "    </tr>\n",
       "  </tbody>\n",
       "</table>\n",
       "</div>"
      ],
      "text/plain": [
       "          Item  In stock gender  startingprice\n",
       "0      causals        55   kids           4000\n",
       "1       frocks        34  girls          10000\n",
       "2      tshirts        55    men            500\n",
       "3   chudidhars        78  women          20000\n",
       "4  westrenwear        87   boys           8000"
      ]
     },
     "execution_count": 30,
     "metadata": {},
     "output_type": "execute_result"
    }
   ],
   "source": [
    "df.head()"
   ]
  },
  {
   "cell_type": "code",
   "execution_count": 31,
   "id": "684769dc",
   "metadata": {},
   "outputs": [
    {
     "data": {
      "text/html": [
       "<div>\n",
       "<style scoped>\n",
       "    .dataframe tbody tr th:only-of-type {\n",
       "        vertical-align: middle;\n",
       "    }\n",
       "\n",
       "    .dataframe tbody tr th {\n",
       "        vertical-align: top;\n",
       "    }\n",
       "\n",
       "    .dataframe thead th {\n",
       "        text-align: right;\n",
       "    }\n",
       "</style>\n",
       "<table border=\"1\" class=\"dataframe\">\n",
       "  <thead>\n",
       "    <tr style=\"text-align: right;\">\n",
       "      <th></th>\n",
       "      <th>Item</th>\n",
       "      <th>In stock</th>\n",
       "      <th>gender</th>\n",
       "      <th>startingprice</th>\n",
       "    </tr>\n",
       "  </thead>\n",
       "  <tbody>\n",
       "    <tr>\n",
       "      <th>0</th>\n",
       "      <td>causals</td>\n",
       "      <td>55</td>\n",
       "      <td>kids</td>\n",
       "      <td>4000</td>\n",
       "    </tr>\n",
       "    <tr>\n",
       "      <th>1</th>\n",
       "      <td>frocks</td>\n",
       "      <td>34</td>\n",
       "      <td>girls</td>\n",
       "      <td>10000</td>\n",
       "    </tr>\n",
       "    <tr>\n",
       "      <th>2</th>\n",
       "      <td>tshirts</td>\n",
       "      <td>55</td>\n",
       "      <td>men</td>\n",
       "      <td>500</td>\n",
       "    </tr>\n",
       "    <tr>\n",
       "      <th>3</th>\n",
       "      <td>chudidhars</td>\n",
       "      <td>78</td>\n",
       "      <td>women</td>\n",
       "      <td>20000</td>\n",
       "    </tr>\n",
       "    <tr>\n",
       "      <th>4</th>\n",
       "      <td>westrenwear</td>\n",
       "      <td>87</td>\n",
       "      <td>boys</td>\n",
       "      <td>8000</td>\n",
       "    </tr>\n",
       "    <tr>\n",
       "      <th>5</th>\n",
       "      <td>formals</td>\n",
       "      <td>55</td>\n",
       "      <td>men</td>\n",
       "      <td>23333</td>\n",
       "    </tr>\n",
       "  </tbody>\n",
       "</table>\n",
       "</div>"
      ],
      "text/plain": [
       "          Item  In stock gender  startingprice\n",
       "0      causals        55   kids           4000\n",
       "1       frocks        34  girls          10000\n",
       "2      tshirts        55    men            500\n",
       "3   chudidhars        78  women          20000\n",
       "4  westrenwear        87   boys           8000\n",
       "5      formals        55    men          23333"
      ]
     },
     "execution_count": 31,
     "metadata": {},
     "output_type": "execute_result"
    }
   ],
   "source": [
    "df.head(6)"
   ]
  },
  {
   "cell_type": "code",
   "execution_count": 32,
   "id": "bcfa571f",
   "metadata": {},
   "outputs": [
    {
     "data": {
      "text/html": [
       "<div>\n",
       "<style scoped>\n",
       "    .dataframe tbody tr th:only-of-type {\n",
       "        vertical-align: middle;\n",
       "    }\n",
       "\n",
       "    .dataframe tbody tr th {\n",
       "        vertical-align: top;\n",
       "    }\n",
       "\n",
       "    .dataframe thead th {\n",
       "        text-align: right;\n",
       "    }\n",
       "</style>\n",
       "<table border=\"1\" class=\"dataframe\">\n",
       "  <thead>\n",
       "    <tr style=\"text-align: right;\">\n",
       "      <th></th>\n",
       "      <th>Item</th>\n",
       "      <th>In stock</th>\n",
       "      <th>gender</th>\n",
       "      <th>startingprice</th>\n",
       "    </tr>\n",
       "  </thead>\n",
       "  <tbody>\n",
       "    <tr>\n",
       "      <th>5</th>\n",
       "      <td>formals</td>\n",
       "      <td>55</td>\n",
       "      <td>men</td>\n",
       "      <td>23333</td>\n",
       "    </tr>\n",
       "    <tr>\n",
       "      <th>6</th>\n",
       "      <td>ethinic wear</td>\n",
       "      <td>22</td>\n",
       "      <td>kids</td>\n",
       "      <td>6999</td>\n",
       "    </tr>\n",
       "    <tr>\n",
       "      <th>7</th>\n",
       "      <td>jackets</td>\n",
       "      <td>33</td>\n",
       "      <td>men</td>\n",
       "      <td>2222</td>\n",
       "    </tr>\n",
       "    <tr>\n",
       "      <th>8</th>\n",
       "      <td>shervaani</td>\n",
       "      <td>11</td>\n",
       "      <td>ladies</td>\n",
       "      <td>77777</td>\n",
       "    </tr>\n",
       "    <tr>\n",
       "      <th>9</th>\n",
       "      <td>kurtas</td>\n",
       "      <td>77</td>\n",
       "      <td>boys</td>\n",
       "      <td>88888</td>\n",
       "    </tr>\n",
       "  </tbody>\n",
       "</table>\n",
       "</div>"
      ],
      "text/plain": [
       "           Item  In stock  gender  startingprice\n",
       "5       formals        55     men          23333\n",
       "6  ethinic wear        22    kids           6999\n",
       "7       jackets        33     men           2222\n",
       "8     shervaani        11  ladies          77777\n",
       "9        kurtas        77    boys          88888"
      ]
     },
     "execution_count": 32,
     "metadata": {},
     "output_type": "execute_result"
    }
   ],
   "source": [
    "df.tail()"
   ]
  },
  {
   "cell_type": "code",
   "execution_count": 33,
   "id": "77b608a1",
   "metadata": {},
   "outputs": [
    {
     "data": {
      "text/html": [
       "<div>\n",
       "<style scoped>\n",
       "    .dataframe tbody tr th:only-of-type {\n",
       "        vertical-align: middle;\n",
       "    }\n",
       "\n",
       "    .dataframe tbody tr th {\n",
       "        vertical-align: top;\n",
       "    }\n",
       "\n",
       "    .dataframe thead th {\n",
       "        text-align: right;\n",
       "    }\n",
       "</style>\n",
       "<table border=\"1\" class=\"dataframe\">\n",
       "  <thead>\n",
       "    <tr style=\"text-align: right;\">\n",
       "      <th></th>\n",
       "      <th>Item</th>\n",
       "      <th>In stock</th>\n",
       "      <th>gender</th>\n",
       "      <th>startingprice</th>\n",
       "    </tr>\n",
       "  </thead>\n",
       "  <tbody>\n",
       "    <tr>\n",
       "      <th>8</th>\n",
       "      <td>shervaani</td>\n",
       "      <td>11</td>\n",
       "      <td>ladies</td>\n",
       "      <td>77777</td>\n",
       "    </tr>\n",
       "    <tr>\n",
       "      <th>9</th>\n",
       "      <td>kurtas</td>\n",
       "      <td>77</td>\n",
       "      <td>boys</td>\n",
       "      <td>88888</td>\n",
       "    </tr>\n",
       "  </tbody>\n",
       "</table>\n",
       "</div>"
      ],
      "text/plain": [
       "        Item  In stock  gender  startingprice\n",
       "8  shervaani        11  ladies          77777\n",
       "9     kurtas        77    boys          88888"
      ]
     },
     "execution_count": 33,
     "metadata": {},
     "output_type": "execute_result"
    }
   ],
   "source": [
    "df.tail(2)"
   ]
  },
  {
   "cell_type": "code",
   "execution_count": 35,
   "id": "f3768935",
   "metadata": {},
   "outputs": [
    {
     "data": {
      "text/html": [
       "<div>\n",
       "<style scoped>\n",
       "    .dataframe tbody tr th:only-of-type {\n",
       "        vertical-align: middle;\n",
       "    }\n",
       "\n",
       "    .dataframe tbody tr th {\n",
       "        vertical-align: top;\n",
       "    }\n",
       "\n",
       "    .dataframe thead th {\n",
       "        text-align: right;\n",
       "    }\n",
       "</style>\n",
       "<table border=\"1\" class=\"dataframe\">\n",
       "  <thead>\n",
       "    <tr style=\"text-align: right;\">\n",
       "      <th></th>\n",
       "      <th>Item</th>\n",
       "      <th>gender</th>\n",
       "    </tr>\n",
       "  </thead>\n",
       "  <tbody>\n",
       "    <tr>\n",
       "      <th>0</th>\n",
       "      <td>causals</td>\n",
       "      <td>kids</td>\n",
       "    </tr>\n",
       "    <tr>\n",
       "      <th>1</th>\n",
       "      <td>frocks</td>\n",
       "      <td>girls</td>\n",
       "    </tr>\n",
       "    <tr>\n",
       "      <th>2</th>\n",
       "      <td>tshirts</td>\n",
       "      <td>men</td>\n",
       "    </tr>\n",
       "    <tr>\n",
       "      <th>3</th>\n",
       "      <td>chudidhars</td>\n",
       "      <td>women</td>\n",
       "    </tr>\n",
       "    <tr>\n",
       "      <th>4</th>\n",
       "      <td>westrenwear</td>\n",
       "      <td>boys</td>\n",
       "    </tr>\n",
       "    <tr>\n",
       "      <th>5</th>\n",
       "      <td>formals</td>\n",
       "      <td>men</td>\n",
       "    </tr>\n",
       "    <tr>\n",
       "      <th>6</th>\n",
       "      <td>ethinic wear</td>\n",
       "      <td>kids</td>\n",
       "    </tr>\n",
       "    <tr>\n",
       "      <th>7</th>\n",
       "      <td>jackets</td>\n",
       "      <td>men</td>\n",
       "    </tr>\n",
       "    <tr>\n",
       "      <th>8</th>\n",
       "      <td>shervaani</td>\n",
       "      <td>ladies</td>\n",
       "    </tr>\n",
       "    <tr>\n",
       "      <th>9</th>\n",
       "      <td>kurtas</td>\n",
       "      <td>boys</td>\n",
       "    </tr>\n",
       "  </tbody>\n",
       "</table>\n",
       "</div>"
      ],
      "text/plain": [
       "           Item  gender\n",
       "0       causals    kids\n",
       "1        frocks   girls\n",
       "2       tshirts     men\n",
       "3    chudidhars   women\n",
       "4   westrenwear    boys\n",
       "5       formals     men\n",
       "6  ethinic wear    kids\n",
       "7       jackets     men\n",
       "8     shervaani  ladies\n",
       "9        kurtas    boys"
      ]
     },
     "execution_count": 35,
     "metadata": {},
     "output_type": "execute_result"
    }
   ],
   "source": [
    "df[[\"Item\",\"gender\"]]"
   ]
  },
  {
   "cell_type": "code",
   "execution_count": 38,
   "id": "8f1cddf5",
   "metadata": {},
   "outputs": [
    {
     "data": {
      "text/plain": [
       "gender\n",
       "men       3\n",
       "kids      2\n",
       "boys      2\n",
       "girls     1\n",
       "women     1\n",
       "ladies    1\n",
       "Name: count, dtype: int64"
      ]
     },
     "execution_count": 38,
     "metadata": {},
     "output_type": "execute_result"
    }
   ],
   "source": [
    "df[\"gender\"].value_counts()"
   ]
  },
  {
   "cell_type": "code",
   "execution_count": 44,
   "id": "15ff9dae",
   "metadata": {},
   "outputs": [
    {
     "data": {
      "text/plain": [
       "startingprice\n",
       "4000     1\n",
       "10000    1\n",
       "500      1\n",
       "20000    1\n",
       "8000     1\n",
       "23333    1\n",
       "6999     1\n",
       "2222     1\n",
       "77777    1\n",
       "88888    1\n",
       "Name: count, dtype: int64"
      ]
     },
     "execution_count": 44,
     "metadata": {},
     "output_type": "execute_result"
    }
   ],
   "source": [
    "df[\"startingprice\"].value_counts().sort_values()"
   ]
  },
  {
   "cell_type": "code",
   "execution_count": 47,
   "id": "11ee70f0",
   "metadata": {},
   "outputs": [
    {
     "data": {
      "text/plain": [
       "startingprice\n",
       "4000     1\n",
       "10000    1\n",
       "500      1\n",
       "20000    1\n",
       "8000     1\n",
       "23333    1\n",
       "6999     1\n",
       "2222     1\n",
       "77777    1\n",
       "88888    1\n",
       "Name: count, dtype: int64"
      ]
     },
     "execution_count": 47,
     "metadata": {},
     "output_type": "execute_result"
    }
   ],
   "source": [
    "df[\"startingprice\"].value_counts().sort_values(ascending=False)"
   ]
  },
  {
   "cell_type": "code",
   "execution_count": 49,
   "id": "5f21d9c1",
   "metadata": {},
   "outputs": [
    {
     "data": {
      "text/html": [
       "<div>\n",
       "<style scoped>\n",
       "    .dataframe tbody tr th:only-of-type {\n",
       "        vertical-align: middle;\n",
       "    }\n",
       "\n",
       "    .dataframe tbody tr th {\n",
       "        vertical-align: top;\n",
       "    }\n",
       "\n",
       "    .dataframe thead th {\n",
       "        text-align: right;\n",
       "    }\n",
       "</style>\n",
       "<table border=\"1\" class=\"dataframe\">\n",
       "  <thead>\n",
       "    <tr style=\"text-align: right;\">\n",
       "      <th></th>\n",
       "      <th>Item</th>\n",
       "      <th>In stock</th>\n",
       "      <th>gender</th>\n",
       "      <th>startingprice</th>\n",
       "    </tr>\n",
       "  </thead>\n",
       "  <tbody>\n",
       "    <tr>\n",
       "      <th>0</th>\n",
       "      <td>causals</td>\n",
       "      <td>55</td>\n",
       "      <td>kids</td>\n",
       "      <td>4000</td>\n",
       "    </tr>\n",
       "    <tr>\n",
       "      <th>1</th>\n",
       "      <td>frocks</td>\n",
       "      <td>34</td>\n",
       "      <td>girls</td>\n",
       "      <td>10000</td>\n",
       "    </tr>\n",
       "    <tr>\n",
       "      <th>2</th>\n",
       "      <td>tshirts</td>\n",
       "      <td>55</td>\n",
       "      <td>men</td>\n",
       "      <td>500</td>\n",
       "    </tr>\n",
       "    <tr>\n",
       "      <th>3</th>\n",
       "      <td>chudidhars</td>\n",
       "      <td>78</td>\n",
       "      <td>women</td>\n",
       "      <td>20000</td>\n",
       "    </tr>\n",
       "    <tr>\n",
       "      <th>4</th>\n",
       "      <td>westrenwear</td>\n",
       "      <td>87</td>\n",
       "      <td>boys</td>\n",
       "      <td>8000</td>\n",
       "    </tr>\n",
       "    <tr>\n",
       "      <th>5</th>\n",
       "      <td>formals</td>\n",
       "      <td>55</td>\n",
       "      <td>men</td>\n",
       "      <td>23333</td>\n",
       "    </tr>\n",
       "    <tr>\n",
       "      <th>6</th>\n",
       "      <td>ethinic wear</td>\n",
       "      <td>22</td>\n",
       "      <td>kids</td>\n",
       "      <td>6999</td>\n",
       "    </tr>\n",
       "    <tr>\n",
       "      <th>7</th>\n",
       "      <td>jackets</td>\n",
       "      <td>33</td>\n",
       "      <td>men</td>\n",
       "      <td>2222</td>\n",
       "    </tr>\n",
       "    <tr>\n",
       "      <th>8</th>\n",
       "      <td>shervaani</td>\n",
       "      <td>11</td>\n",
       "      <td>ladies</td>\n",
       "      <td>77777</td>\n",
       "    </tr>\n",
       "    <tr>\n",
       "      <th>9</th>\n",
       "      <td>kurtas</td>\n",
       "      <td>77</td>\n",
       "      <td>boys</td>\n",
       "      <td>88888</td>\n",
       "    </tr>\n",
       "  </tbody>\n",
       "</table>\n",
       "</div>"
      ],
      "text/plain": [
       "           Item  In stock  gender  startingprice\n",
       "0       causals        55    kids           4000\n",
       "1        frocks        34   girls          10000\n",
       "2       tshirts        55     men            500\n",
       "3    chudidhars        78   women          20000\n",
       "4   westrenwear        87    boys           8000\n",
       "5       formals        55     men          23333\n",
       "6  ethinic wear        22    kids           6999\n",
       "7       jackets        33     men           2222\n",
       "8     shervaani        11  ladies          77777\n",
       "9        kurtas        77    boys          88888"
      ]
     },
     "execution_count": 49,
     "metadata": {},
     "output_type": "execute_result"
    }
   ],
   "source": [
    "df"
   ]
  },
  {
   "cell_type": "code",
   "execution_count": 48,
   "id": "c8ef9d6e",
   "metadata": {},
   "outputs": [
    {
     "name": "stdout",
     "output_type": "stream",
     "text": [
      "Item             causals\n",
      "In stock              55\n",
      "gender              kids\n",
      "startingprice       4000\n",
      "Name: 0, dtype: object\n"
     ]
    }
   ],
   "source": [
    "print(df.loc[0])"
   ]
  },
  {
   "cell_type": "code",
   "execution_count": 53,
   "id": "667d914a",
   "metadata": {},
   "outputs": [],
   "source": [
    "df=pd.read_csv(r'C:\\Users\\sairam\\Desktop\\m@noj\\python1.csv')"
   ]
  },
  {
   "cell_type": "code",
   "execution_count": 55,
   "id": "6328904a",
   "metadata": {},
   "outputs": [
    {
     "data": {
      "text/html": [
       "<div>\n",
       "<style scoped>\n",
       "    .dataframe tbody tr th:only-of-type {\n",
       "        vertical-align: middle;\n",
       "    }\n",
       "\n",
       "    .dataframe tbody tr th {\n",
       "        vertical-align: top;\n",
       "    }\n",
       "\n",
       "    .dataframe thead th {\n",
       "        text-align: right;\n",
       "    }\n",
       "</style>\n",
       "<table border=\"1\" class=\"dataframe\">\n",
       "  <thead>\n",
       "    <tr style=\"text-align: right;\">\n",
       "      <th></th>\n",
       "      <th>ROLL NO</th>\n",
       "      <th>STUDENT NAME</th>\n",
       "      <th>HINDI</th>\n",
       "      <th>ENGLISH</th>\n",
       "      <th>MATH</th>\n",
       "      <th>PHYSICS</th>\n",
       "      <th>CHEMISSTRY</th>\n",
       "      <th>TOTAL</th>\n",
       "      <th>AVERAGE</th>\n",
       "      <th>GRADE</th>\n",
       "    </tr>\n",
       "  </thead>\n",
       "  <tbody>\n",
       "    <tr>\n",
       "      <th>0</th>\n",
       "      <td>1.0</td>\n",
       "      <td>RAM</td>\n",
       "      <td>20.0</td>\n",
       "      <td>10</td>\n",
       "      <td>14.0</td>\n",
       "      <td>18</td>\n",
       "      <td>15.0</td>\n",
       "      <td>77.0</td>\n",
       "      <td>15.4</td>\n",
       "      <td>A</td>\n",
       "    </tr>\n",
       "    <tr>\n",
       "      <th>1</th>\n",
       "      <td>2.0</td>\n",
       "      <td>ASHOK</td>\n",
       "      <td>21.0</td>\n",
       "      <td>12</td>\n",
       "      <td>14.0</td>\n",
       "      <td>12</td>\n",
       "      <td>18.0</td>\n",
       "      <td>77.0</td>\n",
       "      <td>15.4</td>\n",
       "      <td>A</td>\n",
       "    </tr>\n",
       "    <tr>\n",
       "      <th>2</th>\n",
       "      <td>3.0</td>\n",
       "      <td>MANOJ</td>\n",
       "      <td>33.0</td>\n",
       "      <td>15</td>\n",
       "      <td>7.0</td>\n",
       "      <td>14</td>\n",
       "      <td>17.0</td>\n",
       "      <td>86.0</td>\n",
       "      <td>17.2</td>\n",
       "      <td>A</td>\n",
       "    </tr>\n",
       "    <tr>\n",
       "      <th>3</th>\n",
       "      <td>4.0</td>\n",
       "      <td>RAJESH</td>\n",
       "      <td>15.0</td>\n",
       "      <td>14</td>\n",
       "      <td>8.0</td>\n",
       "      <td>16</td>\n",
       "      <td>10.0</td>\n",
       "      <td>63.0</td>\n",
       "      <td>12.6</td>\n",
       "      <td>B</td>\n",
       "    </tr>\n",
       "    <tr>\n",
       "      <th>4</th>\n",
       "      <td>5.0</td>\n",
       "      <td>RANJANA</td>\n",
       "      <td>14.0</td>\n",
       "      <td>17</td>\n",
       "      <td>10.0</td>\n",
       "      <td>13</td>\n",
       "      <td>18.0</td>\n",
       "      <td>72.0</td>\n",
       "      <td>14.4</td>\n",
       "      <td>B</td>\n",
       "    </tr>\n",
       "    <tr>\n",
       "      <th>5</th>\n",
       "      <td>6.0</td>\n",
       "      <td>POOJA</td>\n",
       "      <td>16.0</td>\n",
       "      <td>8</td>\n",
       "      <td>20.0</td>\n",
       "      <td>17</td>\n",
       "      <td>15.0</td>\n",
       "      <td>76.0</td>\n",
       "      <td>15.2</td>\n",
       "      <td>A</td>\n",
       "    </tr>\n",
       "    <tr>\n",
       "      <th>6</th>\n",
       "      <td>7.0</td>\n",
       "      <td>MAHESH</td>\n",
       "      <td>18.0</td>\n",
       "      <td>19</td>\n",
       "      <td>3.0</td>\n",
       "      <td>10</td>\n",
       "      <td>14.0</td>\n",
       "      <td>64.0</td>\n",
       "      <td>12.8</td>\n",
       "      <td>B</td>\n",
       "    </tr>\n",
       "    <tr>\n",
       "      <th>7</th>\n",
       "      <td>8.0</td>\n",
       "      <td>ASHUTOOSH</td>\n",
       "      <td>19.0</td>\n",
       "      <td>20</td>\n",
       "      <td>7.0</td>\n",
       "      <td>14</td>\n",
       "      <td>18.0</td>\n",
       "      <td>78.0</td>\n",
       "      <td>15.6</td>\n",
       "      <td>A</td>\n",
       "    </tr>\n",
       "    <tr>\n",
       "      <th>8</th>\n",
       "      <td>9.0</td>\n",
       "      <td>ANIK</td>\n",
       "      <td>22.0</td>\n",
       "      <td>13</td>\n",
       "      <td>8.0</td>\n",
       "      <td>12</td>\n",
       "      <td>19.0</td>\n",
       "      <td>74.0</td>\n",
       "      <td>14.8</td>\n",
       "      <td>B</td>\n",
       "    </tr>\n",
       "    <tr>\n",
       "      <th>9</th>\n",
       "      <td>10.0</td>\n",
       "      <td>PREM</td>\n",
       "      <td>26.0</td>\n",
       "      <td>13</td>\n",
       "      <td>10.0</td>\n",
       "      <td>11</td>\n",
       "      <td>17.0</td>\n",
       "      <td>77.0</td>\n",
       "      <td>15.4</td>\n",
       "      <td>A</td>\n",
       "    </tr>\n",
       "  </tbody>\n",
       "</table>\n",
       "</div>"
      ],
      "text/plain": [
       "   ROLL NO STUDENT NAME  HINDI ENGLISH  MATH PHYSICS  CHEMISSTRY  TOTAL  \\\n",
       "0      1.0          RAM   20.0      10  14.0      18        15.0   77.0   \n",
       "1      2.0        ASHOK   21.0      12  14.0      12        18.0   77.0   \n",
       "2      3.0        MANOJ   33.0      15   7.0      14        17.0   86.0   \n",
       "3      4.0       RAJESH   15.0      14   8.0      16        10.0   63.0   \n",
       "4      5.0      RANJANA   14.0      17  10.0      13        18.0   72.0   \n",
       "5      6.0        POOJA   16.0       8  20.0      17        15.0   76.0   \n",
       "6      7.0       MAHESH   18.0      19   3.0      10        14.0   64.0   \n",
       "7      8.0    ASHUTOOSH   19.0      20   7.0      14        18.0   78.0   \n",
       "8      9.0         ANIK   22.0      13   8.0      12        19.0   74.0   \n",
       "9     10.0         PREM   26.0      13  10.0      11        17.0   77.0   \n",
       "\n",
       "   AVERAGE GRADE  \n",
       "0     15.4     A  \n",
       "1     15.4     A  \n",
       "2     17.2     A  \n",
       "3     12.6     B  \n",
       "4     14.4     B  \n",
       "5     15.2     A  \n",
       "6     12.8     B  \n",
       "7     15.6     A  \n",
       "8     14.8     B  \n",
       "9     15.4     A  "
      ]
     },
     "execution_count": 55,
     "metadata": {},
     "output_type": "execute_result"
    }
   ],
   "source": [
    "df.head(10)"
   ]
  },
  {
   "cell_type": "code",
   "execution_count": null,
   "id": "6b9d3e9f",
   "metadata": {},
   "outputs": [],
   "source": []
  }
 ],
 "metadata": {
  "kernelspec": {
   "display_name": "Python 3 (ipykernel)",
   "language": "python",
   "name": "python3"
  },
  "language_info": {
   "codemirror_mode": {
    "name": "ipython",
    "version": 3
   },
   "file_extension": ".py",
   "mimetype": "text/x-python",
   "name": "python",
   "nbconvert_exporter": "python",
   "pygments_lexer": "ipython3",
   "version": "3.11.5"
  }
 },
 "nbformat": 4,
 "nbformat_minor": 5
}
