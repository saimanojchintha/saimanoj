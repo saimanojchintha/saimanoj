{
 "cells": [
  {
   "cell_type": "code",
   "execution_count": 16,
   "id": "0e282d3a",
   "metadata": {},
   "outputs": [
    {
     "name": "stdout",
     "output_type": "stream",
     "text": [
      "20 40 60 80 100 "
     ]
    }
   ],
   "source": [
    "my_list = [10, 20, 30, 40, 50, 60, 70, 80, 90, 100]                                               #Use a loop to display elements from\"\"\n",
    "                                                              #a given list present at odd index\"\"\n",
    "for i in my_list[1::2]:                                                      \n",
    "    print(i,end=\" \")\n",
    "    \n",
    "\n",
    "#for my_list in range(20,100,20):\n",
    "    #print(my_list)"
   ]
  },
  {
   "cell_type": "code",
   "execution_count": 18,
   "id": "fb4489fc",
   "metadata": {},
   "outputs": [
    {
     "name": "stdout",
     "output_type": "stream",
     "text": [
      "input_number: 4\n",
      "current number is :  1 and the cube is :  1\n",
      "current number is :  2 and the cube is :  8\n",
      "current number is :  3 and the cube is :  27\n",
      "current number is :  4 and the cube is :  64\n"
     ]
    }
   ],
   "source": [
    "n=int(input(\"input_number: \"))\n",
    "for n in range(1,n+1):\n",
    "    p=n*n*n\n",
    "    print(\"current number is : \",n,\"and the cube is : \",p)"
   ]
  },
  {
   "cell_type": "code",
   "execution_count": 37,
   "id": "7ec63f64",
   "metadata": {},
   "outputs": [
    {
     "name": "stdout",
     "output_type": "stream",
     "text": [
      "Enter any Number: 6\n",
      "21\n"
     ]
    }
   ],
   "source": [
    "number=int(input(\"Enter any Number: \"))\n",
    "sum=0\n",
    "for i in range(1,number+1):                               #Write a program to accept a number from a user and calculate\n",
    "                                                            #the sum of all numbers from 1 to a given number\n",
    "    sum=sum+i\n",
    "print(sum)"
   ]
  },
  {
   "cell_type": "code",
   "execution_count": 7,
   "id": "ef1d5f16",
   "metadata": {},
   "outputs": [
    {
     "name": "stdout",
     "output_type": "stream",
     "text": [
      "75\n",
      "150\n",
      "145\n",
      "50\n"
     ]
    }
   ],
   "source": [
    "n=[12, 75, 150, 180, 145, 525, 50]\n",
    "for i in n:\n",
    "    if i>150:\n",
    "        continue\n",
    "    if i>500:\n",
    "         break                                     # Write a program to display only those \n",
    "    if i%5==0:\n",
    "        print(i)                                           #    numbers from a list that satisfy \tthe following conditions.\n",
    "                                                   # •\tThe number must be divisible by five\n",
    "                                                #\tIf the number is greater than 150, then skip it\n",
    "                                                #    and move to the next number\n",
    "                                                  #  •\tIf the number is greater than 500, then stop the loop\n",
    "\n",
    "    "
   ]
  },
  {
   "cell_type": "code",
   "execution_count": 12,
   "id": "fc85646e",
   "metadata": {},
   "outputs": [
    {
     "name": "stdout",
     "output_type": "stream",
     "text": [
      "1 \n",
      "1 2 \n",
      "1 2 3 \n",
      "1 2 3 4 \n",
      "1 2 3 4 5 \n"
     ]
    }
   ],
   "source": [
    "rows = 5\n",
    "for i in range(1, rows + 1):\n",
    "    for j in range(1, i + 1):\n",
    "        print(j, end=' ')                                  # Write a program to print the following number pattern using a loop.\n",
    "    print('')\n"
   ]
  },
  {
   "cell_type": "code",
   "execution_count": 14,
   "id": "9bea87d8",
   "metadata": {},
   "outputs": [
    {
     "name": "stdout",
     "output_type": "stream",
     "text": [
      "1 \n",
      "2 2 \n",
      "3 3 3 \n",
      "4 4 4 4 \n",
      "5 5 5 5 5 \n"
     ]
    }
   ],
   "source": [
    "\n",
    "for i in range(1,6):\n",
    "    for j in range(1,i + 1):\n",
    "        print(i, end=' ')\n",
    "    print('')\n"
   ]
  },
  {
   "cell_type": "code",
   "execution_count": null,
   "id": "ffdd67ac",
   "metadata": {},
   "outputs": [],
   "source": []
  }
 ],
 "metadata": {
  "kernelspec": {
   "display_name": "Python 3 (ipykernel)",
   "language": "python",
   "name": "python3"
  },
  "language_info": {
   "codemirror_mode": {
    "name": "ipython",
    "version": 3
   },
   "file_extension": ".py",
   "mimetype": "text/x-python",
   "name": "python",
   "nbconvert_exporter": "python",
   "pygments_lexer": "ipython3",
   "version": "3.11.5"
  }
 },
 "nbformat": 4,
 "nbformat_minor": 5
}
