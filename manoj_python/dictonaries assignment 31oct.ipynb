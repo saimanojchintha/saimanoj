{
 "cells": [
  {
   "cell_type": "code",
   "execution_count": 4,
   "id": "c139b19d",
   "metadata": {},
   "outputs": [
    {
     "name": "stdout",
     "output_type": "stream",
     "text": [
      "{'One': 1, 'Two': 2, 'Three': 3}\n"
     ]
    }
   ],
   "source": [
    "#keys = ['One', 'Two', 'Three']\n",
    "#values = [1, 2, 3]\n",
    "\n",
    "keys = ['One', 'Two', 'Three']\n",
    "values = [1, 2, 3]\n",
    "\n",
    "manoj=dict(zip(keys,values))\n",
    "print(manoj)                                                 # By using the above two lists write a Python program to convert them into a\n",
    "                                                    #dictionary in a way that item from list1 is\n",
    "                                                        #the key and item from list2 is the value.#\n",
    "\n"
   ]
  },
  {
   "cell_type": "code",
   "execution_count": 6,
   "id": "02fdcd61",
   "metadata": {},
   "outputs": [
    {
     "name": "stdout",
     "output_type": "stream",
     "text": [
      "{'name': 'maruthi suziki', 'model': 'nexas 200', 'publishedyear': 2000, 'price': 'three billions', 'cashback': 'samsung tv'}\n"
     ]
    }
   ],
   "source": [
    "#Write a python program to merge two dictonaries into one\n",
    "\n",
    "\n",
    "thisdict=dict(name=\"maruthi suziki\",model=\"nexas 200\",publishedyear=2000)\n",
    "thedict=dict(price=\"three billions\",cashback=\"samsung tv\")\n",
    "thisdict.update(thedict)\n",
    "print(thisdict)"
   ]
  },
  {
   "cell_type": "code",
   "execution_count": 33,
   "id": "fb5d0eb8",
   "metadata": {},
   "outputs": [
    {
     "name": "stdout",
     "output_type": "stream",
     "text": [
      "{'age': 25, 'city': 'New york'}\n"
     ]
    }
   ],
   "source": [
    "sample_dict = {\n",
    "   \"name\": \"Kelly\",\n",
    "   \"age\": 25,\n",
    "   \"salary\": 8000,\n",
    "   \"city\": \"New york\"                                # Write a Python program to create a new dictionary by extracting the\n",
    "                                                        #mentioned keys from the below dictionary.\n",
    "}\n",
    "sample_dict.pop(\"name\")\n",
    "sample_dict.pop(\"salary\")\n",
    "print(sample_dict)"
   ]
  },
  {
   "cell_type": "code",
   "execution_count": 18,
   "id": "35967128",
   "metadata": {},
   "outputs": [
    {
     "data": {
      "text/plain": [
       "True"
      ]
     },
     "execution_count": 18,
     "metadata": {},
     "output_type": "execute_result"
    }
   ],
   "source": [
    "sample_dict = {'a': 100, 'b': 200, 'c': 300}               #  Write a Python program to check if value\n",
    "                                                              #  200 exists in the following dictionary\n",
    "200 in sample_dict.values()"
   ]
  },
  {
   "cell_type": "code",
   "execution_count": 20,
   "id": "f99f4c04",
   "metadata": {},
   "outputs": [
    {
     "name": "stdout",
     "output_type": "stream",
     "text": [
      "{'name': 'Kelly', 'age': 25, 'salary': 8000, 'region': 'New york'}\n"
     ]
    }
   ],
   "source": [
    "sample_dict = {\n",
    "   \"name\": \"Kelly\",\n",
    "   \"age\": 25,\n",
    "   \"salary\": 8000,\n",
    "   \"city\": \"New york\"                                           # Write a program to rename a key city to \n",
    "                                                                   # a location in the following dictionary\n",
    "}\n",
    "sample_dict[\"region\"]=sample_dict.pop(\"city\")\n",
    "print(sample_dict)"
   ]
  },
  {
   "cell_type": "code",
   "execution_count": 4,
   "id": "1c6f8e3e",
   "metadata": {},
   "outputs": [
    {
     "name": "stdout",
     "output_type": "stream",
     "text": [
      "{'emp1': {'name': 'Jhon', 'salary': 7500}, 'emp2': {'name': 'Emma', 'salary': 8000}, 'emp3': {'name': 'Brad', 'salary': 8500}}\n"
     ]
    }
   ],
   "source": [
    "sample_dict = {\n",
    "  'emp1': {'name': 'Jhon', 'salary': 7500},\n",
    "  'emp2': {'name': 'Emma', 'salary': 8000},\n",
    "  'emp3': {'name': 'Brad', 'salary': 500}\n",
    "}                                                                         # Write a Python program to change Brad’s salary \n",
    "                                                                           # to 8500 in the following dictionary\n",
    "\n",
    "                 \n",
    "\n",
    "sample_dict.update({\"emp3\":{\"name\":\"Brad\",\"salary\":8500}})\n",
    "print(sample_dict)"
   ]
  },
  {
   "cell_type": "code",
   "execution_count": 6,
   "id": "abd1a4cd",
   "metadata": {},
   "outputs": [
    {
     "name": "stdout",
     "output_type": "stream",
     "text": [
      "The original dictionary : {'name': 'Kelly', 'age': 25, 'salary': 8000, 'city': 'New york'}\n",
      "The filtered dictionary is : {'name': 'Kelly', 'salary': 8000}\n"
     ]
    }
   ],
   "source": [
    "test_dict =  {\n",
    "   \"name\": \"Kelly\",\n",
    "   \"age\": 25,\n",
    "   \"salary\": 8000,\n",
    "   \"city\": \"New york\"\n",
    "}\n",
    "\n",
    "print(\"The original dictionary : \" + str(test_dict))\n",
    " \n",
    "\n",
    "res = dict((k, test_dict[k]) for k in ['name', 'salary']\n",
    "           if k in test_dict)\n",
    " \n",
    "# print result\n",
    "print(\"The filtered dictionary is : \" + str(res))\n"
   ]
  },
  {
   "cell_type": "code",
   "execution_count": null,
   "id": "b821b60e",
   "metadata": {},
   "outputs": [],
   "source": []
  }
 ],
 "metadata": {
  "kernelspec": {
   "display_name": "Python 3 (ipykernel)",
   "language": "python",
   "name": "python3"
  },
  "language_info": {
   "codemirror_mode": {
    "name": "ipython",
    "version": 3
   },
   "file_extension": ".py",
   "mimetype": "text/x-python",
   "name": "python",
   "nbconvert_exporter": "python",
   "pygments_lexer": "ipython3",
   "version": "3.11.5"
  }
 },
 "nbformat": 4,
 "nbformat_minor": 5
}
