{
 "cells": [
  {
   "cell_type": "code",
   "execution_count": 14,
   "id": "f359f9c6",
   "metadata": {},
   "outputs": [
    {
     "name": "stdout",
     "output_type": "stream",
     "text": [
      "10\n",
      "unsupported operand type(s) for /: 'list' and 'int'\n",
      "hello world\n"
     ]
    }
   ],
   "source": [
    "list1=[10,20,30,40,50]\n",
    "print(list1[0])\n",
    "try:\n",
    "    a=list1/0\n",
    "except SyntaxError:\n",
    "    print(\"bye bye\")\n",
    "except Exception as f:\n",
    "    print(f)\n",
    "print(\"hello world\")"
   ]
  },
  {
   "cell_type": "code",
   "execution_count": 11,
   "id": "c6c0216a",
   "metadata": {},
   "outputs": [
    {
     "name": "stdout",
     "output_type": "stream",
     "text": [
      "10\n",
      "unsupported operand type(s) for /: 'list' and 'int'\n",
      "hy\n",
      "bye\n"
     ]
    }
   ],
   "source": [
    "list1=[10,20,30,40,50]\n",
    "print(list1[0])\n",
    "try:\n",
    "    a=list1/0\n",
    "except Exception as e:\n",
    "    print(e)\n",
    "    print('hy')\n",
    "finally:\n",
    "    print(\"bye\")"
   ]
  },
  {
   "cell_type": "code",
   "execution_count": 39,
   "id": "a25fd25b",
   "metadata": {},
   "outputs": [
    {
     "name": "stdout",
     "output_type": "stream",
     "text": [
      "list index out of range\n",
      "bye bye\n"
     ]
    }
   ],
   "source": [
    "list2=[10,20,30,40,50]\n",
    "try:\n",
    "    print(list2[5])\n",
    "except ValueError:\n",
    "     print(\"you have a type error\")\n",
    "except Exception as f:\n",
    "    print(f)\n",
    "    #print(\"govidha\")\n",
    "finally:\n",
    "    print(\"bye bye\")\n",
    "    "
   ]
  },
  {
   "cell_type": "code",
   "execution_count": null,
   "id": "9b255c56",
   "metadata": {},
   "outputs": [],
   "source": []
  }
 ],
 "metadata": {
  "kernelspec": {
   "display_name": "Python 3 (ipykernel)",
   "language": "python",
   "name": "python3"
  },
  "language_info": {
   "codemirror_mode": {
    "name": "ipython",
    "version": 3
   },
   "file_extension": ".py",
   "mimetype": "text/x-python",
   "name": "python",
   "nbconvert_exporter": "python",
   "pygments_lexer": "ipython3",
   "version": "3.11.5"
  }
 },
 "nbformat": 4,
 "nbformat_minor": 5
}
