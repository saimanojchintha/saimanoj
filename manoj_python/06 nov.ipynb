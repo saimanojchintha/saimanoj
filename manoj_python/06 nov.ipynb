{
 "cells": [
  {
   "cell_type": "code",
   "execution_count": 44,
   "id": "92a53269",
   "metadata": {},
   "outputs": [
    {
     "name": "stdout",
     "output_type": "stream",
     "text": [
      "my name is saimanoj and my age is 22\n"
     ]
    }
   ],
   "source": [
    "#1.Write a program to create a function that takes two arguments, name and age, and print their value.\n",
    "\n",
    "def my_fun(name,age):\n",
    "    #print(\"my name is :\" ,name,\" age is :\",age)\n",
    "    print(f'my name is {name} and my age is {age}')\n",
    "my_fun(age=22,name=\"saimanoj\")"
   ]
  },
  {
   "cell_type": "code",
   "execution_count": 9,
   "id": "4bdf0d7a",
   "metadata": {},
   "outputs": [
    {
     "name": "stdout",
     "output_type": "stream",
     "text": [
      "('age', 'name')\n",
      "('sai', 'manoj')\n"
     ]
    }
   ],
   "source": [
    "2.#Write a program to create function func1() to accept a variable length of arguments \n",
    "#and print their value.Note: Create a function in such a way that we can pass any number of arguments to this function, and \n",
    "#the function should process them and display each argument’s value.\n",
    "\n",
    "def func1(*kid):\n",
    "    print(kid)\n",
    "func1(\"age\",\"name\")\n",
    "func1(\"sai\",\"manoj\")    "
   ]
  },
  {
   "cell_type": "code",
   "execution_count": 13,
   "id": "aaaa281f",
   "metadata": {},
   "outputs": [
    {
     "name": "stdout",
     "output_type": "stream",
     "text": [
      "my name is  manoj\n"
     ]
    }
   ],
   "source": [
    "def func1(*kid):\n",
    "    print(\"my name is \",kid[1])\n",
    "func1(\"sai\",\"manoj\")    "
   ]
  },
  {
   "cell_type": "code",
   "execution_count": 16,
   "id": "01db1c64",
   "metadata": {},
   "outputs": [
    {
     "name": "stdout",
     "output_type": "stream",
     "text": [
      "addition is 15 and subtraction is 5\n"
     ]
    }
   ],
   "source": [
    "#3.\tWrite a program to create function calculation() such that it can accept two variables and calculate addition and subtraction. \n",
    "#Also, it must return both addition and subtraction in a single return call\n",
    "\n",
    "def calculation(add,sub):\n",
    "    add=add+sub\n",
    "    sub=add-sub\n",
    "    print(f'addition is {add} and subtraction is {sub}')\n",
    "calculation(5,10)"
   ]
  },
  {
   "cell_type": "code",
   "execution_count": 31,
   "id": "25186098",
   "metadata": {},
   "outputs": [
    {
     "name": "stdout",
     "output_type": "stream",
     "text": [
      "employee name is dheeraj and salary is 90000\n"
     ]
    }
   ],
   "source": [
    "#4.\tWrite a program to create a function show_employee() using the following conditions. (Hint: Use default arguments)\n",
    "#It should accept the employee’s name and salary and display both.\n",
    "#If the salary is missing in the function call then assign default value 9000 to salary\n",
    "\n",
    "\n",
    "def show_employee(employeesname,salary=90000):\n",
    "    print(f'employee name is {employeesname} and salary is {salary}')\n",
    "show_employee(\"dheeraj\")"
   ]
  },
  {
   "cell_type": "code",
   "execution_count": 132,
   "id": "91525a5a",
   "metadata": {},
   "outputs": [
    {
     "data": {
      "text/plain": [
       "55"
      ]
     },
     "execution_count": 132,
     "metadata": {},
     "output_type": "execute_result"
    }
   ],
   "source": [
    "#program to create a recursive function to calculate \tthe sum of numbers from 0 to 10. \n",
    "#(A recursive function is a \tfunction that calls itself again and again.)\n",
    "\n",
    "\n",
    "def my_func(n): \n",
    "    if n==0: \n",
    "        return n \n",
    "    return n + recurSum(n - 1) \n",
    "my_func(10) "
   ]
  },
  {
   "cell_type": "code",
   "execution_count": 33,
   "id": "3ddb8dbb",
   "metadata": {},
   "outputs": [
    {
     "name": "stdout",
     "output_type": "stream",
     "text": [
      "c is greater\n"
     ]
    }
   ],
   "source": [
    "   # 6. Write a Python function to find the maximum of three \tnumbers.\n",
    "    \n",
    "def max_num(a,b,c):\n",
    "    if a>b and a>c:\n",
    "        print(\"a is greater\")\n",
    "    elif b>a and b>c:\n",
    "        print(\"b is greater\")\n",
    "    else:\n",
    "        print(\"c is greater\")\n",
    "\n",
    "max_num(5,10,15)\n",
    "        "
   ]
  },
  {
   "cell_type": "code",
   "execution_count": 76,
   "id": "e86662c4",
   "metadata": {},
   "outputs": [
    {
     "name": "stdout",
     "output_type": "stream",
     "text": [
      "20\n"
     ]
    }
   ],
   "source": [
    "7 #Write a Python function to sum all the numbers in a list.\n",
    "\t#Sample List : (8, 2, 3, 0, 7)\n",
    "\t#Expected Output : 20\n",
    " \n",
    "def my_fun(list):\n",
    "    list=[8,2,3,0,7]\n",
    "    t=0\n",
    "    for i in list:\n",
    "        t=t+i\n",
    "    print(t)\n",
    "my_fun(t)"
   ]
  },
  {
   "cell_type": "code",
   "execution_count": 49,
   "id": "07c61267",
   "metadata": {},
   "outputs": [
    {
     "name": "stdout",
     "output_type": "stream",
     "text": [
      "20\n"
     ]
    }
   ],
   "source": [
    "list1 = [8, 2, 3, 0, 7]\n",
    "\n",
    "\n",
    "def sumOfList(lst, size):\n",
    "    if size == 0:\n",
    "        return 0\n",
    "    else:\n",
    "        return lst[size - 1] + sumOfList(lst, size - 1)\n",
    "\n",
    "\n",
    "# Driver code\n",
    "total = sumOfList(list1, len(list1))\n",
    "\n",
    "print(total)"
   ]
  },
  {
   "cell_type": "code",
   "execution_count": 74,
   "id": "a3faca7b",
   "metadata": {},
   "outputs": [
    {
     "name": "stdout",
     "output_type": "stream",
     "text": [
      "dcba4321\n"
     ]
    }
   ],
   "source": [
    "#8. Write a Python program to reverse a string.\n",
    "def my_fun(s):\n",
    "    \n",
    "    s=\"1234abcd\"\n",
    "    y=s[::-1]\n",
    "    print(y)\n",
    "my_fun(y)"
   ]
  },
  {
   "cell_type": "code",
   "execution_count": 93,
   "id": "fdb8c55c",
   "metadata": {},
   "outputs": [
    {
     "name": "stdout",
     "output_type": "stream",
     "text": [
      "uppercase  count is 4 and lowercase count is 22\n"
     ]
    }
   ],
   "source": [
    ". #9Write a Python function that accepts a string and counts the \tnumber of upper and lower case letters.\n",
    "\t#Sample String : 'Welcome To Mitraz, Puttaparthi'\n",
    "\n",
    "\n",
    "\n",
    "def my_fun():\n",
    "\n",
    "    s='Welcome To Mitraz, Puttaparthi'\n",
    "    upper=0\n",
    "    lower=0\n",
    "    for i in s:\n",
    "        if(i.islower()):\n",
    "            lower=lower+1\n",
    "        elif(i.isupper()):\n",
    "            upper=upper+1\n",
    "    print(f'uppercase  count is {upper} and lowercase count is {lower}')\n",
    "\n",
    "my_fun()"
   ]
  },
  {
   "cell_type": "code",
   "execution_count": 101,
   "id": "ed5f9e2b",
   "metadata": {},
   "outputs": [
    {
     "name": "stdout",
     "output_type": "stream",
     "text": [
      "2\n",
      "4\n",
      "6\n",
      "8\n"
     ]
    }
   ],
   "source": [
    "#10Write a Python program to print the even numbers from a \tgiven list.\n",
    "list=[1, 2, 3, 4, 5, 6, 7, 8, 9]\n",
    "\n",
    "def my_fun(list):\n",
    "    list=[1, 2, 3, 4, 5, 6, 7, 8, 9]\n",
    "\n",
    "    for i in list:\n",
    "        if i%2==0:\n",
    "            print(i)\n",
    "        else:\n",
    "            continue\n",
    "        \n",
    "my_fun(i)"
   ]
  },
  {
   "cell_type": "code",
   "execution_count": 117,
   "id": "a0d9c639",
   "metadata": {},
   "outputs": [
    {
     "name": "stdout",
     "output_type": "stream",
     "text": [
      "2\n",
      "4\n",
      "6\n",
      "8\n"
     ]
    }
   ],
   "source": [
    "#10 Write a Python program to print the even numbers from a \tgiven list\n",
    "\n",
    "def my_fun(list):\n",
    "    list=[1, 2, 3, 4, 5, 6, 7, 8, 9]\n",
    "    for i in list:\n",
    "        if i%2==0:\n",
    "            print(i)\n",
    "my_fun(i)"
   ]
  },
  {
   "cell_type": "code",
   "execution_count": null,
   "id": "0029f9c6",
   "metadata": {},
   "outputs": [],
   "source": []
  }
 ],
 "metadata": {
  "kernelspec": {
   "display_name": "Python 3 (ipykernel)",
   "language": "python",
   "name": "python3"
  },
  "language_info": {
   "codemirror_mode": {
    "name": "ipython",
    "version": 3
   },
   "file_extension": ".py",
   "mimetype": "text/x-python",
   "name": "python",
   "nbconvert_exporter": "python",
   "pygments_lexer": "ipython3",
   "version": "3.11.5"
  }
 },
 "nbformat": 4,
 "nbformat_minor": 5
}
