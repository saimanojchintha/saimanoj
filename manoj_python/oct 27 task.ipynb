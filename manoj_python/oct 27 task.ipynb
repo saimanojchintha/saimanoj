{
 "cells": [
  {
   "cell_type": "code",
   "execution_count": 1,
   "id": "3252a3b7",
   "metadata": {},
   "outputs": [
    {
     "name": "stdout",
     "output_type": "stream",
     "text": [
      "enter the age of a person: 25\n",
      "Eligible for vote\n"
     ]
    }
   ],
   "source": [
    "a=int(input(\"enter the age of a person: \"))\n",
    "if a>=18:\n",
    "    print(\"Eligible for vote\")                               #eligiblity fo vote\n",
    "else:\n",
    "    print(\"Not eligible for vote\")"
   ]
  },
  {
   "cell_type": "code",
   "execution_count": 4,
   "id": "8dd622da",
   "metadata": {},
   "outputs": [
    {
     "name": "stdout",
     "output_type": "stream",
     "text": [
      "enter any number: 24\n",
      "even number\n"
     ]
    }
   ],
   "source": [
    "a=int(input(\"enter any number: \"))\n",
    "if a%2==0:\n",
    "    print(\"even number\")                          #check whether even or odd\n",
    "else:\n",
    "    print(\"odd number\")"
   ]
  },
  {
   "cell_type": "code",
   "execution_count": 2,
   "id": "7565f566",
   "metadata": {},
   "outputs": [
    {
     "name": "stdout",
     "output_type": "stream",
     "text": [
      "enter any number: 100\n",
      "factor of 5\n"
     ]
    }
   ],
   "source": [
    "a=int(input(\"enter any number: \"))\n",
    "if a%5==0:\n",
    "    print(\"factor of 5\")                               #check whether a number is a factor \n",
    "else:\n",
    "    print(\"not a factor of 5\")"
   ]
  },
  {
   "cell_type": "code",
   "execution_count": 3,
   "id": "a021b1c0",
   "metadata": {},
   "outputs": [
    {
     "name": "stdout",
     "output_type": "stream",
     "text": [
      "enter the number: 27\n",
      "hye\n"
     ]
    }
   ],
   "source": [
    "a=int(input(\"enter the number: \"))\n",
    "if a%3==0:\n",
    "    print(\"hye\")                  #multiples of 3\n",
    "else:\n",
    "    print(\"BYe\")"
   ]
  },
  {
   "cell_type": "code",
   "execution_count": 27,
   "id": "e9c9d5a7",
   "metadata": {},
   "outputs": [
    {
     "name": "stdout",
     "output_type": "stream",
     "text": [
      "enter your marks: 88\n",
      "B GRADE\n"
     ]
    }
   ],
   "source": [
    "a=int(input(\"enter your marks: \"))\n",
    "if a>60:\n",
    "    if a>90:\n",
    "        print(\"A GRADE\")\n",
    "    elif a>80 and a<=90:\n",
    "        print(\"B GRADE\")\n",
    "    elif a>60 and a<=80:            #gradings system\n",
    "         print(\"C GRADE\")\n",
    "else:\n",
    "    print(\"D GRADE\")\n",
    "    \n",
    "    "
   ]
  },
  {
   "cell_type": "code",
   "execution_count": null,
   "id": "01c721a3",
   "metadata": {},
   "outputs": [],
   "source": []
  },
  {
   "cell_type": "code",
   "execution_count": 1,
   "id": "b9763278",
   "metadata": {},
   "outputs": [
    {
     "data": {
      "text/plain": [
       "5"
      ]
     },
     "execution_count": 1,
     "metadata": {},
     "output_type": "execute_result"
    }
   ],
   "source": [
    "list=[1,62,300,4,55]\n",
    "\"\"\"count=0\n",
    "for i in list:\n",
    "    count=count+1                           #counting number of elements in list\n",
    "print(count)\n",
    "    \"\"\"\n",
    "\n",
    "len(list)\n",
    "    \n",
    "\n",
    "    "
   ]
  },
  {
   "cell_type": "code",
   "execution_count": 1,
   "id": "4e71670b",
   "metadata": {},
   "outputs": [
    {
     "name": "stdout",
     "output_type": "stream",
     "text": [
      "3\n",
      "6\n",
      "9\n"
     ]
    }
   ],
   "source": [
    "a=1\n",
    "for a in range(1,10):\n",
    "    a=a+1\n",
    "    if a%3==0:                              #multiples of 3 using for loop\n",
    "        print(a)\n",
    "    else:\n",
    "        continue"
   ]
  },
  {
   "cell_type": "code",
   "execution_count": 3,
   "id": "4afa970c",
   "metadata": {},
   "outputs": [
    {
     "name": "stdout",
     "output_type": "stream",
     "text": [
      "['sai', 'manoj', 'sai manoj']\n"
     ]
    }
   ],
   "source": [
    "list=[\"sai\",\"manoj\",\"sai manoj\"]\n",
    "manoj=[]\n",
    "for i in manoj:                                              #copying list from another list\n",
    "    list.append(i)\n",
    "print(list)"
   ]
  },
  {
   "cell_type": "code",
   "execution_count": 2,
   "id": "ce74eee5",
   "metadata": {},
   "outputs": [
    {
     "name": "stdout",
     "output_type": "stream",
     "text": [
      "1\n",
      "43\n",
      "4\n"
     ]
    }
   ],
   "source": [
    "list=[1,43,4]\n",
    "#len=len(list)\n",
    "for i in range(0,len(list)):\n",
    "    print(list[i])\n"
   ]
  },
  {
   "cell_type": "code",
   "execution_count": 19,
   "id": "02d2e6a9",
   "metadata": {},
   "outputs": [
    {
     "name": "stdout",
     "output_type": "stream",
     "text": [
      "\n",
      "* \n",
      "* * \n",
      "* * * \n",
      "* * * * \n",
      "* * * * * \n",
      "* * * * * * \n",
      "* * * * * * * \n",
      "* * * * * * * * \n"
     ]
    }
   ],
   "source": [
    "for i in range(0,9):\n",
    "    for j in range(1,1+i):\n",
    "        print(\"*\",end=\" \")                                #printing triangle stars\n",
    "    print()"
   ]
  },
  {
   "cell_type": "code",
   "execution_count": 5,
   "id": "286c87d8",
   "metadata": {},
   "outputs": [
    {
     "name": "stdout",
     "output_type": "stream",
     "text": [
      "enter any number: 22\n",
      "22 21 20 19 18 17 16 15 14 13 12 11 10 9 8 7 6 5 4 3 2 1 "
     ]
    }
   ],
   "source": [
    "s=int(input(\"enter any number: \"))\n",
    "for i in range(s,0,-1):\n",
    "    print(i,end=\" \")                                      #reverse of sequene number"
   ]
  },
  {
   "cell_type": "code",
   "execution_count": 12,
   "id": "817d046c",
   "metadata": {},
   "outputs": [
    {
     "name": "stdout",
     "output_type": "stream",
     "text": [
      "sai\n",
      "manoj\n",
      "vyshnavi\n"
     ]
    }
   ],
   "source": [
    "s=(\"sai\",\"manoj\",\"vyshnavi\")\n",
    "m=0\n",
    "while m<len(s):                                      #printing values from tuple using while loop\n",
    "    print(s[m])\n",
    "    m=m+1"
   ]
  },
  {
   "cell_type": "code",
   "execution_count": 2,
   "id": "7f4aa666",
   "metadata": {},
   "outputs": [
    {
     "name": "stdout",
     "output_type": "stream",
     "text": [
      "5\n"
     ]
    }
   ],
   "source": [
    "list=[1,2,3,4,5]\n",
    "a=0\n",
    "s=0\n",
    "while a<len(list):\n",
    "   \n",
    "    s+=list[a]\n",
    "    a+=1\n",
    "print(a)\n",
    "    "
   ]
  },
  {
   "cell_type": "code",
   "execution_count": 25,
   "id": "1a6a2eb9",
   "metadata": {},
   "outputs": [
    {
     "name": "stdout",
     "output_type": "stream",
     "text": [
      "z\n"
     ]
    }
   ],
   "source": [
    "syce=\"mytraz\"\n",
    "pyce=\"\"\n",
    "for i in syce:\n",
    "    if 'y' in i and 'a' in i:\n",
    "        p\n",
    "        continue\n",
    "print(i)"
   ]
  },
  {
   "cell_type": "code",
   "execution_count": null,
   "id": "db6c74d2",
   "metadata": {},
   "outputs": [],
   "source": []
  }
 ],
 "metadata": {
  "kernelspec": {
   "display_name": "Python 3 (ipykernel)",
   "language": "python",
   "name": "python3"
  },
  "language_info": {
   "codemirror_mode": {
    "name": "ipython",
    "version": 3
   },
   "file_extension": ".py",
   "mimetype": "text/x-python",
   "name": "python",
   "nbconvert_exporter": "python",
   "pygments_lexer": "ipython3",
   "version": "3.11.5"
  }
 },
 "nbformat": 4,
 "nbformat_minor": 5
}
