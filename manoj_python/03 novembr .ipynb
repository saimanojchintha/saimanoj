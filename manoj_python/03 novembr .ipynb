{
 "cells": [
  {
   "cell_type": "code",
   "execution_count": 20,
   "id": "e3340a18",
   "metadata": {},
   "outputs": [
    {
     "name": "stdout",
     "output_type": "stream",
     "text": [
      "3 three\n",
      "6 three\n",
      "9 three\n",
      "12 three\n",
      "15 three\n",
      "15 five\n",
      "15 threefive\n",
      "18 three\n",
      "21 three\n",
      "24 three\n",
      "27 three\n",
      "30 three\n",
      "30 five\n",
      "30 threefive\n",
      "33 three\n",
      "36 three\n",
      "39 three\n",
      "42 three\n",
      "45 three\n",
      "45 five\n",
      "45 threefive\n",
      "48 three\n"
     ]
    }
   ],
   "source": [
    "\"\"\"1.\tWrite a Python program that iterates the integers from 1 to 50. For multiples of three print \n",
    "\"Three\" instead of the number and for multiples of five print \"Five\". For numbers \n",
    "that are multiples of three and five, print \"ThreeFive\".\n",
    "\"\"\"\n",
    "\n",
    "\n",
    "n=50\n",
    "for i in range(1,n+1):\n",
    "    if i%3==0:\n",
    "        print(i,\"three\")\n",
    "        if i%5==0:\n",
    "            print(i,\"five\")\n",
    "            if i%3==0 and i%5==0:\n",
    "                print(i,\"threefive\")"
   ]
  },
  {
   "cell_type": "code",
   "execution_count": 23,
   "id": "bad40399",
   "metadata": {},
   "outputs": [
    {
     "name": "stdout",
     "output_type": "stream",
     "text": [
      "Number of Digit is 4\n",
      "Number of Alphabets is 5\n"
     ]
    }
   ],
   "source": [
    "\"2.\tWrite a Python program that accepts a string and calculates the number of digits and letters\"\n",
    "\n",
    "\n",
    "alpha=0\n",
    "string=\"Geeks1234\"\n",
    "for i in string:\n",
    "    if (i.isalpha()):\n",
    "        alpha+=1\n",
    "        d=len(string)-alpha\n",
    "print(\"Number of Digit is\", d)\n",
    "print(\"Number of Alphabets is\", alpha)\n"
   ]
  },
  {
   "cell_type": "code",
   "execution_count": 2,
   "id": "8e2da112",
   "metadata": {},
   "outputs": [
    {
     "name": "stdout",
     "output_type": "stream",
     "text": [
      "Original List: [76, 23, 45, 12, 54, 9]\n",
      "Sorted List [9, 12, 23, 45, 54, 76]\n"
     ]
    }
   ],
   "source": [
    "l1=[76, 23, 45, 12, 54, 9] \n",
    "print(\"Original List:\", l1)\n",
    " \n",
    "# sorting list using nested loops\n",
    "for i in range(0, len(l1)):\n",
    "    for j in range(i+1, len(l1)):\n",
    "        if l1[i] >= l1[j]:\n",
    "            l1[i], l1[j] = l1[j],l1[i]\n",
    " \n",
    "# sorted list\n",
    "print(\"Sorted List\", l1)"
   ]
  },
  {
   "cell_type": "code",
   "execution_count": null,
   "id": "4fd80bbc",
   "metadata": {},
   "outputs": [],
   "source": []
  },
  {
   "cell_type": "code",
   "execution_count": 24,
   "id": "8d241f86",
   "metadata": {},
   "outputs": [
    {
     "name": "stdout",
     "output_type": "stream",
     "text": [
      "enter your number: 5\n",
      "120\n"
     ]
    }
   ],
   "source": [
    "\"4.\tWrite a program to find a factorial of a number accepted from the user.\"\n",
    "\n",
    "\n",
    "n=int(input(\"enter your number: \"))\n",
    "s=1\n",
    "for i in range(1,n+1):\n",
    "     s=s*i\n",
    "print(s)"
   ]
  },
  {
   "cell_type": "code",
   "execution_count": 1,
   "id": "899684ab",
   "metadata": {},
   "outputs": [
    {
     "name": "stdout",
     "output_type": "stream",
     "text": [
      "Enter a number: 123\n",
      "The product of the digits of 123 is 6\n"
     ]
    }
   ],
   "source": [
    "num = int(input(\"Enter a number: \"))\n",
    "product = 1\n",
    "for digit in str(num):\n",
    "    product *= int(digit)\n",
    "print(\"The product of the digits of\", num, \"is\", product)"
   ]
  },
  {
   "cell_type": "code",
   "execution_count": 25,
   "id": "421471d8",
   "metadata": {},
   "outputs": [
    {
     "name": "stdout",
     "output_type": "stream",
     "text": [
      "1\n",
      "3\n",
      "5\n",
      "7\n",
      "9\n",
      "11 divisible by 11\n",
      "13\n",
      "15\n",
      "17\n",
      "19\n",
      "21\n",
      "23\n",
      "25\n",
      "27\n",
      "29\n",
      "31\n",
      "33 divisible by 11\n",
      "35\n",
      "37\n",
      "39\n",
      "41\n",
      "43\n",
      "45\n",
      "47\n",
      "49\n",
      "51\n",
      "53\n",
      "55 divisible by 11\n",
      "57\n",
      "59\n",
      "61\n",
      "63\n",
      "65\n",
      "67\n",
      "69\n",
      "71\n",
      "73\n",
      "75\n",
      "77 divisible by 11\n",
      "79\n",
      "81\n",
      "83\n",
      "85\n",
      "87\n",
      "89\n",
      "91\n",
      "93\n",
      "95\n",
      "97\n",
      "99 divisible by 11\n"
     ]
    }
   ],
   "source": [
    "\"6.\tWrite a program to display all the numbers which are divisible by 11 but not by 2 between 100 to 500\"\n",
    "\n",
    "\n",
    "\n",
    "n=100\n",
    "for i in range(1,n+1):\n",
    "    if i%2!=0:\n",
    "        if i%11==0:\n",
    "            print(i,\"divisible by 11\")\n",
    "        else:\n",
    "            print(i)"
   ]
  },
  {
   "cell_type": "code",
   "execution_count": 2,
   "id": "7d34a54c",
   "metadata": {},
   "outputs": [
    {
     "data": {
      "text/plain": [
       "[32, 22, 10]"
      ]
     },
     "execution_count": 2,
     "metadata": {},
     "output_type": "execute_result"
    }
   ],
   "source": [
    "\"1.\tGiven a list of numbers, remove all odd numbers from the list numbers = [3,5,45,97,32,22,10,19,39,43]\"\n",
    "\n",
    "\n",
    "listnumbers = [3,5,45,97,32,22,10,19,39,43]\n",
    "newlist=[i for i in listnumbers if i%2==0]\n",
    "newlist"
   ]
  },
  {
   "cell_type": "code",
   "execution_count": 7,
   "id": "9b6ea36c",
   "metadata": {},
   "outputs": [
    {
     "name": "stdout",
     "output_type": "stream",
     "text": [
      "[7, 14, 21, 28, 35, 42, 49, 56, 63, 70, 77, 84, 91, 98, 105, 112, 119, 126, 133, 140, 147, 154, 161, 168, 175, 182, 189, 196, 203, 210, 217, 224, 231, 238, 245, 252, 259, 266, 273, 280, 287, 294, 301, 308, 315, 322, 329, 336, 343, 350, 357, 364, 371, 378, 385, 392, 399, 406, 413, 420, 427, 434, 441, 448, 455, 462, 469, 476, 483, 490, 497, 504, 511, 518, 525, 532, 539, 546, 553, 560, 567, 574, 581, 588, 595, 602, 609, 616, 623, 630, 637, 644, 651, 658, 665, 672, 679, 686, 693, 700, 707, 714, 721, 728, 735, 742, 749, 756, 763, 770, 777, 784, 791, 798, 805, 812, 819, 826, 833, 840, 847, 854, 861, 868, 875, 882, 889, 896, 903, 910, 917, 924, 931, 938, 945, 952, 959, 966, 973, 980, 987, 994]\n"
     ]
    }
   ],
   "source": [
    "\"2.\tFind all of the numbers from 1-1000 that are divisible by 7\"\n",
    "\n",
    "\n",
    "newlist=[i for i in range(1,1000) if i%7==0]\n",
    "print(newlist)"
   ]
  },
  {
   "cell_type": "code",
   "execution_count": 8,
   "id": "6db896ab",
   "metadata": {},
   "outputs": [
    {
     "name": "stdout",
     "output_type": "stream",
     "text": [
      "2\n"
     ]
    }
   ],
   "source": [
    "\"3.\tCount the number of spaces in a string\"\n",
    "\n",
    "string = \"Welcome to geeksforgeeks\"\n",
    "newlist=[i for i in string if i==\" \"]\n",
    "print(len(newlist))"
   ]
  },
  {
   "cell_type": "code",
   "execution_count": 28,
   "id": "bc234d91",
   "metadata": {},
   "outputs": [
    {
     "ename": "SyntaxError",
     "evalue": "unterminated string literal (detected at line 2) (732532262.py, line 2)",
     "output_type": "error",
     "traceback": [
      "\u001b[1;36m  Cell \u001b[1;32mIn[28], line 2\u001b[1;36m\u001b[0m\n\u001b[1;33m    \"\"Result would look like (index, value),(index, value)\"\"\u001b[0m\n\u001b[1;37m                                                           ^\u001b[0m\n\u001b[1;31mSyntaxError\u001b[0m\u001b[1;31m:\u001b[0m unterminated string literal (detected at line 2)\n"
     ]
    }
   ],
   "source": [
    "#4.\tGet the index and the value as a tuple for items in the list “hi”, 4, 8.99,‘apple’,(‘t,b’,’n’). \\\n",
    "\n",
    "#Result would look like (index, value),(index, value)\n",
    "\n",
    "\n",
    "\n",
    "string = \" hai all Welcome to geeksforgeeks\"\n",
    "newlist=[i for i in string.split(' ') if len(i)<4]\n",
    "print(newlist)"
   ]
  },
  {
   "cell_type": "code",
   "execution_count": 16,
   "id": "dff1f730",
   "metadata": {},
   "outputs": [
    {
     "name": "stdout",
     "output_type": "stream",
     "text": [
      "[(0, 'hi'), (1, 4), (2, 8.99), (3, 'apple'), (4, ('t,b', 'n'))]\n"
     ]
    }
   ],
   "source": [
    "\"5.\tFind all of the words in a string that are less than 4 letters [Hint: Use split() to get the words from string]\"\n",
    "\n",
    "\n",
    "\n",
    "list=[\"hi\", 4, 8.99, \"apple\", ('t,b','n')]\n",
    "newlist=[(i,list) for i ,list in enumerate(list)]\n",
    "print(newlist)"
   ]
  },
  {
   "cell_type": "code",
   "execution_count": null,
   "id": "2e722b0b",
   "metadata": {},
   "outputs": [],
   "source": []
  }
 ],
 "metadata": {
  "kernelspec": {
   "display_name": "Python 3 (ipykernel)",
   "language": "python",
   "name": "python3"
  },
  "language_info": {
   "codemirror_mode": {
    "name": "ipython",
    "version": 3
   },
   "file_extension": ".py",
   "mimetype": "text/x-python",
   "name": "python",
   "nbconvert_exporter": "python",
   "pygments_lexer": "ipython3",
   "version": "3.11.5"
  }
 },
 "nbformat": 4,
 "nbformat_minor": 5
}
