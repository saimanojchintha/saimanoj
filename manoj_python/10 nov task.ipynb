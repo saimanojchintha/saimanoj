{
 "cells": [
  {
   "cell_type": "code",
   "execution_count": 5,
   "id": "a9ee57b4",
   "metadata": {},
   "outputs": [
    {
     "name": "stdout",
     "output_type": "stream",
     "text": [
      "Guess a charcter : m\n",
      "m\n",
      "_\n",
      "_\n",
      "_\n"
     ]
    }
   ],
   "source": [
    "ant=\"manu\"\n",
    "\n",
    "c=input(\"Guess a charcter : \")\n",
    "turn=10\n",
    "\n",
    "for char in ant:\n",
    "\n",
    "\n",
    "    if char in c:\n",
    "        \n",
    "        \n",
    "        print(char)\n",
    "        \n",
    "    else:\n",
    "        \n",
    "        print(\"_\")\n",
    "        #print(\"wrong decession\" )\n",
    "        \n"
   ]
  },
  {
   "cell_type": "code",
   "execution_count": null,
   "id": "4f11800a",
   "metadata": {},
   "outputs": [],
   "source": []
  },
  {
   "cell_type": "code",
   "execution_count": null,
   "id": "20748faa",
   "metadata": {},
   "outputs": [],
   "source": []
  },
  {
   "cell_type": "code",
   "execution_count": null,
   "id": "7de1a544",
   "metadata": {},
   "outputs": [],
   "source": []
  },
  {
   "cell_type": "code",
   "execution_count": 12,
   "id": "17c7947e",
   "metadata": {},
   "outputs": [
    {
     "name": "stdout",
     "output_type": "stream",
     "text": [
      "3\n"
     ]
    }
   ],
   "source": [
    "b=\"sai\"\n",
    "print(len(b))"
   ]
  },
  {
   "cell_type": "code",
   "execution_count": 24,
   "id": "b7668658",
   "metadata": {},
   "outputs": [
    {
     "ename": "NameError",
     "evalue": "name 's' is not defined",
     "output_type": "error",
     "traceback": [
      "\u001b[1;31m---------------------------------------------------------------------------\u001b[0m",
      "\u001b[1;31mNameError\u001b[0m                                 Traceback (most recent call last)",
      "Cell \u001b[1;32mIn[24], line 4\u001b[0m\n\u001b[0;32m      1\u001b[0m b\u001b[38;5;241m=\u001b[39m\u001b[38;5;124m\"\u001b[39m\u001b[38;5;124msai\u001b[39m\u001b[38;5;124m\"\u001b[39m\n\u001b[1;32m----> 4\u001b[0m \u001b[38;5;28;01mif\u001b[39;00m s \u001b[38;5;129;01min\u001b[39;00m b:\n\u001b[0;32m      5\u001b[0m     \u001b[38;5;28mprint\u001b[39m(\u001b[38;5;124m\"\u001b[39m\u001b[38;5;124mha\u001b[39m\u001b[38;5;124m\"\u001b[39m)\n",
      "\u001b[1;31mNameError\u001b[0m: name 's' is not defined"
     ]
    }
   ],
   "source": [
    "b=\"sai\"\n",
    "\n",
    "    \n",
    "if s in b:\n",
    "    print(\"ha\")"
   ]
  },
  {
   "cell_type": "code",
   "execution_count": 58,
   "id": "488a35df",
   "metadata": {},
   "outputs": [
    {
     "name": "stdout",
     "output_type": "stream",
     "text": [
      "sai\n"
     ]
    }
   ],
   "source": [
    "b=\"sai\"\n",
    "if \"s\" in b:\n",
    "    print(b)\n",
    "    "
   ]
  },
  {
   "cell_type": "code",
   "execution_count": null,
   "id": "5a39c951",
   "metadata": {},
   "outputs": [],
   "source": [
    "b=input(\"enter your name : \")\n",
    "print(f'Hello{b}, lets play hangman')\n",
    "print(\"so whats your first guess ? \")"
   ]
  },
  {
   "cell_type": "code",
   "execution_count": null,
   "id": "e8e8f67f",
   "metadata": {},
   "outputs": [],
   "source": [
    "else:\n",
    "        pass\n",
    "print(\"enter once more : \")\n",
    "    "
   ]
  }
 ],
 "metadata": {
  "kernelspec": {
   "display_name": "Python 3 (ipykernel)",
   "language": "python",
   "name": "python3"
  },
  "language_info": {
   "codemirror_mode": {
    "name": "ipython",
    "version": 3
   },
   "file_extension": ".py",
   "mimetype": "text/x-python",
   "name": "python",
   "nbconvert_exporter": "python",
   "pygments_lexer": "ipython3",
   "version": "3.11.5"
  }
 },
 "nbformat": 4,
 "nbformat_minor": 5
}
