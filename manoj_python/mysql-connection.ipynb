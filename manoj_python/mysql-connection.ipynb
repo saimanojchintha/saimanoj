{
 "cells": [
  {
   "cell_type": "code",
   "execution_count": 1,
   "id": "000e25db",
   "metadata": {},
   "outputs": [
    {
     "name": "stdout",
     "output_type": "stream",
     "text": [
      "Collecting mysql-connector-python\n",
      "  Obtaining dependency information for mysql-connector-python from https://files.pythonhosted.org/packages/a7/84/b63f11124f808b6f1e3389072bc36cc907929d7574e85f94bf8f18117fe4/mysql_connector_python-8.2.0-cp311-cp311-win_amd64.whl.metadata\n",
      "  Downloading mysql_connector_python-8.2.0-cp311-cp311-win_amd64.whl.metadata (2.1 kB)\n",
      "Collecting protobuf<=4.21.12,>=4.21.1 (from mysql-connector-python)\n",
      "  Downloading protobuf-4.21.12-cp310-abi3-win_amd64.whl (527 kB)\n",
      "     ---------------------------------------- 0.0/527.0 kB ? eta -:--:--\n",
      "     ---------------------------------------- 0.0/527.0 kB ? eta -:--:--\n",
      "      --------------------------------------- 10.2/527.0 kB ? eta -:--:--\n",
      "     -- ---------------------------------- 30.7/527.0 kB 262.6 kB/s eta 0:00:02\n",
      "     ------ ------------------------------ 92.2/527.0 kB 585.1 kB/s eta 0:00:01\n",
      "     ------------------- ------------------ 276.5/527.0 kB 1.5 MB/s eta 0:00:01\n",
      "     -------------------------------------  522.2/527.0 kB 2.3 MB/s eta 0:00:01\n",
      "     -------------------------------------- 527.0/527.0 kB 2.1 MB/s eta 0:00:00\n",
      "Downloading mysql_connector_python-8.2.0-cp311-cp311-win_amd64.whl (14.2 MB)\n",
      "   ---------------------------------------- 0.0/14.2 MB ? eta -:--:--\n",
      "   - -------------------------------------- 0.6/14.2 MB 12.6 MB/s eta 0:00:02\n",
      "   --- ------------------------------------ 1.1/14.2 MB 13.7 MB/s eta 0:00:01\n",
      "   ---- ----------------------------------- 1.5/14.2 MB 12.3 MB/s eta 0:00:02\n",
      "   ----- ---------------------------------- 2.0/14.2 MB 11.4 MB/s eta 0:00:02\n",
      "   ------- -------------------------------- 2.6/14.2 MB 11.9 MB/s eta 0:00:01\n",
      "   -------- ------------------------------- 3.1/14.2 MB 12.3 MB/s eta 0:00:01\n",
      "   ---------- ----------------------------- 3.6/14.2 MB 12.0 MB/s eta 0:00:01\n",
      "   ----------- ---------------------------- 4.0/14.2 MB 11.7 MB/s eta 0:00:01\n",
      "   ------------ --------------------------- 4.5/14.2 MB 12.0 MB/s eta 0:00:01\n",
      "   ------------- -------------------------- 5.0/14.2 MB 11.7 MB/s eta 0:00:01\n",
      "   --------------- ------------------------ 5.4/14.2 MB 12.0 MB/s eta 0:00:01\n",
      "   ---------------- ----------------------- 5.9/14.2 MB 11.8 MB/s eta 0:00:01\n",
      "   ----------------- ---------------------- 6.4/14.2 MB 12.0 MB/s eta 0:00:01\n",
      "   ------------------- -------------------- 6.8/14.2 MB 11.8 MB/s eta 0:00:01\n",
      "   -------------------- ------------------- 7.3/14.2 MB 11.7 MB/s eta 0:00:01\n",
      "   --------------------- ------------------ 7.8/14.2 MB 11.8 MB/s eta 0:00:01\n",
      "   ----------------------- ---------------- 8.4/14.2 MB 11.7 MB/s eta 0:00:01\n",
      "   ------------------------ --------------- 8.8/14.2 MB 11.8 MB/s eta 0:00:01\n",
      "   -------------------------- ------------- 9.3/14.2 MB 11.7 MB/s eta 0:00:01\n",
      "   --------------------------- ------------ 9.8/14.2 MB 11.8 MB/s eta 0:00:01\n",
      "   ---------------------------- ----------- 10.3/14.2 MB 11.7 MB/s eta 0:00:01\n",
      "   ------------------------------ --------- 10.7/14.2 MB 11.9 MB/s eta 0:00:01\n",
      "   ------------------------------- -------- 11.2/14.2 MB 11.7 MB/s eta 0:00:01\n",
      "   -------------------------------- ------- 11.7/14.2 MB 11.9 MB/s eta 0:00:01\n",
      "   ---------------------------------- ----- 12.1/14.2 MB 11.9 MB/s eta 0:00:01\n",
      "   ----------------------------------- ---- 12.6/14.2 MB 11.7 MB/s eta 0:00:01\n",
      "   ------------------------------------ --- 13.1/14.2 MB 11.7 MB/s eta 0:00:01\n",
      "   -------------------------------------- - 13.5/14.2 MB 11.7 MB/s eta 0:00:01\n",
      "   ---------------------------------------  14.0/14.2 MB 11.9 MB/s eta 0:00:01\n",
      "   ---------------------------------------  14.2/14.2 MB 11.7 MB/s eta 0:00:01\n",
      "   ---------------------------------------  14.2/14.2 MB 11.7 MB/s eta 0:00:01\n",
      "   ---------------------------------------  14.2/14.2 MB 11.7 MB/s eta 0:00:01\n",
      "   ---------------------------------------- 14.2/14.2 MB 10.2 MB/s eta 0:00:00\n",
      "Installing collected packages: protobuf, mysql-connector-python\n",
      "Successfully installed mysql-connector-python-8.2.0 protobuf-4.21.12\n",
      "Note: you may need to restart the kernel to use updated packages.\n"
     ]
    }
   ],
   "source": [
    "pip install mysql-connector-python"
   ]
  },
  {
   "cell_type": "code",
   "execution_count": 1,
   "id": "4eb559b1",
   "metadata": {},
   "outputs": [
    {
     "name": "stdout",
     "output_type": "stream",
     "text": [
      "(1, 'simisola', 60)\n",
      "(2, 'ivan', 80)\n",
      "(3, 'metodija', 52)\n",
      "(4, 'callum', 98)\n",
      "(5, 'leia', 84)\n",
      "(6, 'aparecdic', 82)\n",
      "(7, 'ursula', 69)\n",
      "(8, 'ramazan', 78)\n",
      "(9, 'corona', 87)\n",
      "(10, 'alise', 57)\n",
      "(11, 'galadriel', 89)\n",
      "(12, 'merel', 99)\n",
      "(13, 'cherice', 55)\n",
      "(14, 'nithya', 81)\n",
      "(15, 'elsad', 71)\n",
      "(16, 'liisi', 90)\n",
      "(17, 'johanna', 90)\n",
      "(18, 'anfisa', 90)\n",
      "(19, 'ryosuke', 97)\n",
      "(20, 'sakchai', 61)\n",
      "(21, 'elbert', 63)\n",
      "(22, 'katelyn', 51)\n",
      "(24, 'John Doe', 99)\n"
     ]
    }
   ],
   "source": [
    "import mysql.connector\n",
    "connection=mysql.connector.connect(\n",
    "host='localhost',\n",
    "user='root',\n",
    "password='sairam',\n",
    "database='saimanoj',\n",
    ")\n",
    "cursor=connection.cursor()\n",
    "query=\"select*from student_grade\"\n",
    "cursor.execute(query)\n",
    "results=cursor.fetchall()\n",
    "for row in results:\n",
    "    print(row)\n",
    "cursor.close()\n",
    "connection.close()"
   ]
  },
  {
   "cell_type": "code",
   "execution_count": 7,
   "id": "71b9ba83",
   "metadata": {},
   "outputs": [
    {
     "name": "stdout",
     "output_type": "stream",
     "text": [
      "Collecting pymysql\n",
      "  Obtaining dependency information for pymysql from https://files.pythonhosted.org/packages/e5/30/20467e39523d0cfc2b6227902d3687a16364307260c75e6a1cb4422b0c62/PyMySQL-1.1.0-py3-none-any.whl.metadata\n",
      "  Downloading PyMySQL-1.1.0-py3-none-any.whl.metadata (4.4 kB)\n",
      "Downloading PyMySQL-1.1.0-py3-none-any.whl (44 kB)\n",
      "   ---------------------------------------- 0.0/44.8 kB ? eta -:--:--\n",
      "   ---------------------------------------- 0.0/44.8 kB ? eta -:--:--\n",
      "   --------- ------------------------------ 10.2/44.8 kB ? eta -:--:--\n",
      "   --------------------------- ------------ 30.7/44.8 kB 262.6 kB/s eta 0:00:01\n",
      "   ------------------------------------ --- 41.0/44.8 kB 326.8 kB/s eta 0:00:01\n",
      "   ---------------------------------------- 44.8/44.8 kB 244.9 kB/s eta 0:00:00\n",
      "Installing collected packages: pymysql\n",
      "Successfully installed pymysql-1.1.0\n",
      "Note: you may need to restart the kernel to use updated packages.\n"
     ]
    }
   ],
   "source": [
    "pip install pymysql"
   ]
  },
  {
   "cell_type": "code",
   "execution_count": 16,
   "id": "465e84ac",
   "metadata": {},
   "outputs": [],
   "source": [
    "import warnings\n",
    "warnings.filterwarnings(\"ignore\")"
   ]
  },
  {
   "cell_type": "code",
   "execution_count": 17,
   "id": "f5b913c6",
   "metadata": {},
   "outputs": [
    {
     "data": {
      "text/html": [
       "<div>\n",
       "<style scoped>\n",
       "    .dataframe tbody tr th:only-of-type {\n",
       "        vertical-align: middle;\n",
       "    }\n",
       "\n",
       "    .dataframe tbody tr th {\n",
       "        vertical-align: top;\n",
       "    }\n",
       "\n",
       "    .dataframe thead th {\n",
       "        text-align: right;\n",
       "    }\n",
       "</style>\n",
       "<table border=\"1\" class=\"dataframe\">\n",
       "  <thead>\n",
       "    <tr style=\"text-align: right;\">\n",
       "      <th></th>\n",
       "      <th>id</th>\n",
       "      <th>name</th>\n",
       "      <th>score</th>\n",
       "    </tr>\n",
       "  </thead>\n",
       "  <tbody>\n",
       "    <tr>\n",
       "      <th>0</th>\n",
       "      <td>1</td>\n",
       "      <td>simisola</td>\n",
       "      <td>60</td>\n",
       "    </tr>\n",
       "    <tr>\n",
       "      <th>1</th>\n",
       "      <td>2</td>\n",
       "      <td>ivan</td>\n",
       "      <td>80</td>\n",
       "    </tr>\n",
       "    <tr>\n",
       "      <th>2</th>\n",
       "      <td>3</td>\n",
       "      <td>metodija</td>\n",
       "      <td>52</td>\n",
       "    </tr>\n",
       "    <tr>\n",
       "      <th>3</th>\n",
       "      <td>4</td>\n",
       "      <td>callum</td>\n",
       "      <td>98</td>\n",
       "    </tr>\n",
       "    <tr>\n",
       "      <th>4</th>\n",
       "      <td>5</td>\n",
       "      <td>leia</td>\n",
       "      <td>84</td>\n",
       "    </tr>\n",
       "  </tbody>\n",
       "</table>\n",
       "</div>"
      ],
      "text/plain": [
       "   id      name  score\n",
       "0   1  simisola     60\n",
       "1   2      ivan     80\n",
       "2   3  metodija     52\n",
       "3   4    callum     98\n",
       "4   5      leia     84"
      ]
     },
     "execution_count": 17,
     "metadata": {},
     "output_type": "execute_result"
    }
   ],
   "source": [
    "import pymysql\n",
    "import pandas as pd\n",
    "conn=pymysql.connect(\n",
    "host='localhost',\n",
    "user='root',\n",
    "password='sairam',\n",
    "database='saimanoj',\n",
    "port=int(3306)\n",
    ")\n",
    "query=\"select*from student_grade\"\n",
    "df=pd.read_sql_query(query,conn)\n",
    "df.head()"
   ]
  },
  {
   "cell_type": "code",
   "execution_count": null,
   "id": "cddd8e9e",
   "metadata": {},
   "outputs": [],
   "source": []
  }
 ],
 "metadata": {
  "kernelspec": {
   "display_name": "Python 3 (ipykernel)",
   "language": "python",
   "name": "python3"
  },
  "language_info": {
   "codemirror_mode": {
    "name": "ipython",
    "version": 3
   },
   "file_extension": ".py",
   "mimetype": "text/x-python",
   "name": "python",
   "nbconvert_exporter": "python",
   "pygments_lexer": "ipython3",
   "version": "3.11.5"
  }
 },
 "nbformat": 4,
 "nbformat_minor": 5
}
