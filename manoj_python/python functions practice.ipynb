{
 "cells": [
  {
   "cell_type": "code",
   "execution_count": 5,
   "id": "dee4649e",
   "metadata": {},
   "outputs": [
    {
     "name": "stdout",
     "output_type": "stream",
     "text": [
      "c is greater value\n"
     ]
    }
   ],
   "source": [
    "#1. Write a Python function to find the maximum of three numbers.\n",
    "\n",
    "def my_fun(a,b,c):\n",
    "    if a>b and a>c:\n",
    "        print('a is maximum value')\n",
    "    elif b>a and b>c:\n",
    "        print(\"b is maximum value\")\n",
    "    else:\n",
    "        print(\"c is greater value\")\n",
    "my_fun(2,3,4)"
   ]
  },
  {
   "cell_type": "code",
   "execution_count": 55,
   "id": "24d63346",
   "metadata": {},
   "outputs": [
    {
     "name": "stdout",
     "output_type": "stream",
     "text": [
      "[8, 2, 3, 0, 7]\n",
      "sum of all numbers is 20\n"
     ]
    }
   ],
   "source": [
    "#2. Write a Python function to sum all the numbers in a list.\n",
    "\n",
    "def fun_name():\n",
    "    t=list([8, 2, 3, 0, 7])\n",
    "    print(t)\n",
    "    s=0\n",
    "    for i in t:\n",
    "        s=i+s\n",
    "    print(f'sum of all numbers is {s}')  \n",
    "fun_name()"
   ]
  },
  {
   "cell_type": "code",
   "execution_count": 63,
   "id": "03a803bc",
   "metadata": {},
   "outputs": [
    {
     "name": "stdout",
     "output_type": "stream",
     "text": [
      "[8, 2, 3, -1, 7]\n",
      "multiply of all numbers is -336\n"
     ]
    }
   ],
   "source": [
    "#3Write a Python function to multiply all the numbers in a list.\n",
    "\n",
    "def fun_name():\n",
    "    t=list([8, 2, 3, -1, 7])\n",
    "    print(t)\n",
    "    m=1\n",
    "    for i in t:\n",
    "        m=i*m\n",
    "    print(f'multiply of all numbers is {m}')  \n",
    "    #return m\n",
    "fun_name()"
   ]
  },
  {
   "cell_type": "code",
   "execution_count": 64,
   "id": "78a7fd4f",
   "metadata": {},
   "outputs": [
    {
     "name": "stdout",
     "output_type": "stream",
     "text": [
      "1234abcd\n"
     ]
    }
   ],
   "source": [
    "#4. Write a Python program to reverse a string.\n",
    "def my_str(s=\"1234abcd\"):\n",
    "    "
   ]
  },
  {
   "cell_type": "code",
   "execution_count": 77,
   "id": "3a5ac98c",
   "metadata": {},
   "outputs": [
    {
     "name": "stdout",
     "output_type": "stream",
     "text": [
      "120\n"
     ]
    }
   ],
   "source": [
    "#5. Write a Python function to calculate the factorial of a number (a non-negative integer).\n",
    "#The function accepts the number as an argument.\n",
    "\n",
    "def my_fact(a):\n",
    "    factorial=1\n",
    "    for i in range(1,1+a):\n",
    "        factorial=i*factorial\n",
    "    return factorial\n",
    "print(my_fact(5))\n"
   ]
  },
  {
   "cell_type": "code",
   "execution_count": 80,
   "id": "7a0b0673",
   "metadata": {},
   "outputs": [
    {
     "name": "stdout",
     "output_type": "stream",
     "text": [
      "noo\n"
     ]
    }
   ],
   "source": [
    "#6. Write a Python function to check whether a number falls within a given range.\n",
    "\n",
    "def num_fall(a):\n",
    "    if a in range(1,10):\n",
    "        print(f'yes it was in range{a}')\n",
    "    else:\n",
    "        print('noo')\n",
    "num_fall(15)\n",
    "     "
   ]
  },
  {
   "cell_type": "code",
   "execution_count": 87,
   "id": "c547f597",
   "metadata": {},
   "outputs": [
    {
     "name": "stdout",
     "output_type": "stream",
     "text": [
      "UPPER LETTERS ARE 3 and lower letters are 16\n"
     ]
    }
   ],
   "source": [
    "#7. Write a Python function that accepts a string and counts the number of upper and lower case letters.\n",
    "\n",
    "def case(a):\n",
    "    upper=0\n",
    "    lower=0\n",
    "    for i in a:\n",
    "        if(i.isupper()):\n",
    "            upper=upper+1\n",
    "        else:\n",
    "            lower=lower+1\n",
    "    print(f'UPPER LETTERS ARE {upper} and lower letters are {lower}')\n",
    "case('The quick Brown Fox')"
   ]
  },
  {
   "cell_type": "code",
   "execution_count": 12,
   "id": "4e2eb594",
   "metadata": {},
   "outputs": [
    {
     "name": "stdout",
     "output_type": "stream",
     "text": [
      "[1, 2, 3, 4, 5]\n"
     ]
    }
   ],
   "source": [
    "8#Write a Python function that takes a list and returns a new list with distinct elements from the first list.\n",
    "\n",
    "def my_list(samplelist):\n",
    "    newlist=[]\n",
    "    for i in samplelist:\n",
    "        if i not in newlist:\n",
    "            newlist.append(i)\n",
    "    return newlist\n",
    "#samplelist=[1,2,3,3,3,3,4,5]\n",
    "print(my_list((1,2,3,3,3,3,4,5)))"
   ]
  },
  {
   "cell_type": "code",
   "execution_count": 4,
   "id": "872e4e8f",
   "metadata": {},
   "outputs": [
    {
     "name": "stdout",
     "output_type": "stream",
     "text": [
      "Entered number is non prime\n"
     ]
    }
   ],
   "source": [
    "# 9 Write a Python function that takes a number as a parameter and checks whether the number is prime or not.\n",
    "\n",
    "def check_prime(a):\n",
    "    if a%2!=0 and a%1==a:\n",
    "        print(\" Entered number is prime\")\n",
    "    else:\n",
    "        print(\"Entered number is non prime\")\n",
    "check_prime(31)"
   ]
  },
  {
   "cell_type": "code",
   "execution_count": 30,
   "id": "9d381bea",
   "metadata": {},
   "outputs": [
    {
     "name": "stdout",
     "output_type": "stream",
     "text": [
      "[2, 4, 6, 8]\n"
     ]
    }
   ],
   "source": [
    "#10. Write a Python program to print the even numbers from a given list.\n",
    "\n",
    "def check_even(samplelist):\n",
    "    evenlist=[]\n",
    "    for i in samplelist:\n",
    "        if i%2==0:\n",
    "            evenlist.append(i)\n",
    "    return evenlist\n",
    "print(check_even((1, 2, 3, 4, 5, 6, 7, 8, 9)))"
   ]
  },
  {
   "cell_type": "code",
   "execution_count": null,
   "id": "46fbdf4d",
   "metadata": {},
   "outputs": [],
   "source": []
  }
 ],
 "metadata": {
  "kernelspec": {
   "display_name": "Python 3 (ipykernel)",
   "language": "python",
   "name": "python3"
  },
  "language_info": {
   "codemirror_mode": {
    "name": "ipython",
    "version": 3
   },
   "file_extension": ".py",
   "mimetype": "text/x-python",
   "name": "python",
   "nbconvert_exporter": "python",
   "pygments_lexer": "ipython3",
   "version": "3.11.5"
  }
 },
 "nbformat": 4,
 "nbformat_minor": 5
}
