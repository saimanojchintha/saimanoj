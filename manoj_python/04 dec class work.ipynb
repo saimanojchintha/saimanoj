{
 "cells": [
  {
   "cell_type": "code",
   "execution_count": 9,
   "id": "a6e4b9df",
   "metadata": {},
   "outputs": [
    {
     "name": "stdout",
     "output_type": "stream",
     "text": [
      "zartiM ot emocleW\n"
     ]
    }
   ],
   "source": [
    "#1.Write a python programme to reverse each word of a given string;\n",
    "\n",
    "str=\"Welcome to Mitraz\"\n",
    "print(str[::-1])"
   ]
  },
  {
   "cell_type": "code",
   "execution_count": null,
   "id": "a9a40e78",
   "metadata": {},
   "outputs": [],
   "source": []
  },
  {
   "cell_type": "code",
   "execution_count": 58,
   "id": "065eb477",
   "metadata": {},
   "outputs": [
    {
     "name": "stdout",
     "output_type": "stream",
     "text": [
      "Line 1 Line 2 Line 3 Line 4 Line 5\n"
     ]
    }
   ],
   "source": [
    "#2.Create a text file(sample.txt) with the following text. The data should be shown like below\n",
    "\n",
    "# Variable contains the path to the file\n",
    "path = r\"C:\\Users\\sairam\\Desktop\\text file.txt \"\n",
    "\n",
    "# The file is read and its data is stored\n",
    "data = open(path, 'r').read()\n",
    "\n",
    "# Replacing all occurrences of newline in data with ''\n",
    "data = data.replace('\\n', ' ')\n",
    "\n",
    "# Displaying the resultant data\n",
    "print(data)\n"
   ]
  },
  {
   "cell_type": "code",
   "execution_count": 54,
   "id": "3b717b9f",
   "metadata": {},
   "outputs": [
    {
     "name": "stdout",
     "output_type": "stream",
     "text": [
      "[60, 70, 80, 90, 100]\n"
     ]
    }
   ],
   "source": [
    "#3.Remove items from a list while iterating\n",
    "#In this question, You need to remove items from a list while iterating but without creating a different copy of a list.\n",
    "#Remove numbers greater than 50\n",
    "\n",
    "number_list = [10, 20, 30, 40, 50, 60, 70, 80, 90, 100]\n",
    "new_list=[x for x in number_list if x > 50]\n",
    "print(new_list)"
   ]
  },
  {
   "cell_type": "code",
   "execution_count": 64,
   "id": "2cb65bf5",
   "metadata": {},
   "outputs": [
    {
     "name": "stdout",
     "output_type": "stream",
     "text": [
      "The reversed dictionary is: {65: 'A', 66: 'B', 67: 'C', 68: 'D'}\n"
     ]
    }
   ],
   "source": [
    "#4.Write a python programme to reverse Dictionary mapping\n",
    "ascii_dict = {'A': 65, 'B': 66, 'C': 67, 'D': 68}                                                        \n",
    "#print(\"The input dictionary is:\",ascii_dict)\n",
    "reversing_dictonary = dict()\n",
    "for key in ascii_dict:\n",
    "    val = ascii_dict[key]\n",
    "    reversing_dictonary[val] = key\n",
    "print(\"The reversed dictionary is:\",reversing_dictonary)"
   ]
  },
  {
   "cell_type": "code",
   "execution_count": 61,
   "id": "794fe69e",
   "metadata": {},
   "outputs": [
    {
     "name": "stdout",
     "output_type": "stream",
     "text": [
      "[20, 60, 30]\n"
     ]
    }
   ],
   "source": [
    "#5.Write a python programme to display duplicate items from a list\n",
    "\n",
    "my_list = [10, 20, 60, 30, 20, 40, 30, 60, 70, 80]\n",
    "duplicate_item ={x for x in my_list if my_list.count(x) > 1}\n",
    "print(list(duplicate_item))"
   ]
  },
  {
   "cell_type": "code",
   "execution_count": null,
   "id": "0b690fc7",
   "metadata": {},
   "outputs": [],
   "source": []
  }
 ],
 "metadata": {
  "kernelspec": {
   "display_name": "Python 3 (ipykernel)",
   "language": "python",
   "name": "python3"
  },
  "language_info": {
   "codemirror_mode": {
    "name": "ipython",
    "version": 3
   },
   "file_extension": ".py",
   "mimetype": "text/x-python",
   "name": "python",
   "nbconvert_exporter": "python",
   "pygments_lexer": "ipython3",
   "version": "3.11.5"
  }
 },
 "nbformat": 4,
 "nbformat_minor": 5
}
