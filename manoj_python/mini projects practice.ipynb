{
 "cells": [
  {
   "cell_type": "code",
   "execution_count": 14,
   "id": "116c212f",
   "metadata": {},
   "outputs": [
    {
     "name": "stdout",
     "output_type": "stream",
     "text": [
      "Enter Your Email: manojsai@gmail.com\n",
      "Your user name is 'manojsai' and your domain is 'gmail.com'\n"
     ]
    }
   ],
   "source": [
    "email = input(\"Enter Your Email: \")\n",
    "username = email[:email.index(\"@\")]\n",
    "domain_name = email[email.index(\"@\")+1:]\n",
    "format_ = (f\"Your user name is '{username}' and your domain is '{domain_name}'\")\n",
    "print(format_)"
   ]
  },
  {
   "cell_type": "code",
   "execution_count": null,
   "id": "f13a2821",
   "metadata": {},
   "outputs": [],
   "source": [
    "str1 = 'geeks for geeks'\n",
    "# Print the string without stripping. \n",
    "print(str1) \n",
    "  \n",
    "# String whose set of characters are to be \n",
    "# remove from original string at both its ends. \n",
    "str2 = 'ekgs'\n",
    "  \n",
    "# Print string after stripping str2 from str1 at both its end. \n",
    "print(str1.strip(str2))"
   ]
  },
  {
   "cell_type": "code",
   "execution_count": 5,
   "id": "3899fae9",
   "metadata": {},
   "outputs": [
    {
     "name": "stdout",
     "output_type": "stream",
     "text": [
      "enter your email id : manusai@gmail.com\n",
      "your email id is manusai gmail.com\n"
     ]
    },
    {
     "data": {
      "text/plain": [
       "'manusai gmail.com'"
      ]
     },
     "execution_count": 5,
     "metadata": {},
     "output_type": "execute_result"
    }
   ],
   "source": [
    "a=input(\"enter your email id : \")\n",
    "#for i in a:\n",
    "b=a.replace('@',\" \")\n",
    "print(f'your email id is {b}')\n"
   ]
  },
  {
   "cell_type": "code",
   "execution_count": null,
   "id": "65573d3e",
   "metadata": {},
   "outputs": [],
   "source": [
    "b=i.strip('@')"
   ]
  },
  {
   "cell_type": "code",
   "execution_count": 15,
   "id": "bbfd98bf",
   "metadata": {},
   "outputs": [
    {
     "name": "stdout",
     "output_type": "stream",
     "text": [
      "ur username is manojsai\n",
      "ur domain is gmail.com\n"
     ]
    }
   ],
   "source": [
    "a=\"manojsai@gmail.com\"\n",
    "b=a.replace('@',' ')\n",
    "print(f'ur username is {b[:8]}')\n",
    "print(f'ur domain is {b[9:]}')"
   ]
  },
  {
   "cell_type": "code",
   "execution_count": null,
   "id": "727d5acb",
   "metadata": {},
   "outputs": [],
   "source": []
  }
 ],
 "metadata": {
  "kernelspec": {
   "display_name": "Python 3 (ipykernel)",
   "language": "python",
   "name": "python3"
  },
  "language_info": {
   "codemirror_mode": {
    "name": "ipython",
    "version": 3
   },
   "file_extension": ".py",
   "mimetype": "text/x-python",
   "name": "python",
   "nbconvert_exporter": "python",
   "pygments_lexer": "ipython3",
   "version": "3.11.5"
  }
 },
 "nbformat": 4,
 "nbformat_minor": 5
}
