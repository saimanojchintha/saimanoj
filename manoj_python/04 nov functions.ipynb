{
 "cells": [
  {
   "cell_type": "code",
   "execution_count": 3,
   "id": "d38977d4",
   "metadata": {},
   "outputs": [
    {
     "data": {
      "text/plain": [
       "<function __main__.fun_name()>"
      ]
     },
     "execution_count": 3,
     "metadata": {},
     "output_type": "execute_result"
    }
   ],
   "source": [
    "def fun_name():\n",
    "    print(\"hello world\")\n",
    "fun_name"
   ]
  },
  {
   "cell_type": "code",
   "execution_count": 5,
   "id": "e1f90bed",
   "metadata": {},
   "outputs": [
    {
     "name": "stdout",
     "output_type": "stream",
     "text": [
      "manoj sai\n"
     ]
    }
   ],
   "source": [
    "def fun_name(fname):\n",
    "    print(fname+\" \" +\"sai\")\n",
    "fun_name(\"manoj\")"
   ]
  },
  {
   "cell_type": "code",
   "execution_count": 14,
   "id": "fbd5d750",
   "metadata": {},
   "outputs": [
    {
     "name": "stdout",
     "output_type": "stream",
     "text": [
      "manoj sai\n"
     ]
    }
   ],
   "source": [
    "def fun_name(fname):\n",
    "    print(fname+\" \" +\"sai\")\n",
    "h=fun_name(\"manoj\")\n",
    "h"
   ]
  },
  {
   "cell_type": "code",
   "execution_count": 13,
   "id": "e8fc43fd",
   "metadata": {},
   "outputs": [
    {
     "name": "stdout",
     "output_type": "stream",
     "text": [
      "manoj sai venkat\n",
      "vyshnav sai sandhya\n"
     ]
    }
   ],
   "source": [
    "def fun_name(fname,lname):\n",
    "    print(fname+\" \" +\"sai\"+\" \"+lname)\n",
    "fun_name(\"manoj\",\"venkat\")\n",
    "fun_name(\"vyshnav\",\"sandhya\")\n"
   ]
  },
  {
   "cell_type": "code",
   "execution_count": 21,
   "id": "c9f85b51",
   "metadata": {},
   "outputs": [
    {
     "name": "stdout",
     "output_type": "stream",
     "text": [
      "manoj is good boy but vyshnav is bad boy\n"
     ]
    }
   ],
   "source": [
    "def fun_name(fname,lname):\n",
    "    print(f\"{fname} is good boy but {lname} is bad boy\")\n",
    "fun_name(fname = \"manoj\",lname = \"vyshnav\")\n"
   ]
  },
  {
   "cell_type": "code",
   "execution_count": 26,
   "id": "c0348181",
   "metadata": {},
   "outputs": [
    {
     "name": "stdout",
     "output_type": "stream",
     "text": [
      "('sai', 'kumar')\n",
      "('vyshnav', 'tej')\n"
     ]
    }
   ],
   "source": [
    "def fun_name(*kedhar):\n",
    "    print(kedhar)\n",
    "fun_name(\"sai\",\"kumar\")\n",
    "fun_name(\"vyshnav\",\"tej\")"
   ]
  },
  {
   "cell_type": "code",
   "execution_count": 47,
   "id": "0d0f0c52",
   "metadata": {},
   "outputs": [
    {
     "name": "stdout",
     "output_type": "stream",
     "text": [
      "first name is sai\n"
     ]
    }
   ],
   "source": [
    "def fun_name(*kedhar):\n",
    "    print(\"first name is\",kedhar[0])\n",
    "fun_name(\"sai\",\"kumar\")\n"
   ]
  },
  {
   "cell_type": "code",
   "execution_count": 44,
   "id": "e8fcc447",
   "metadata": {},
   "outputs": [
    {
     "name": "stdout",
     "output_type": "stream",
     "text": [
      "good among the boys is  sai\n",
      "good among the boys is  sai\n"
     ]
    }
   ],
   "source": [
    "def fun_name(maavadu,pagodu):\n",
    "    print(\"good among the boys is \",maavadu)\n",
    "a=fun_name(\"sai\",\"kumar\")\n",
    "b=fun_name(maavadu=\"sai\",pagodu=\"kumar\")"
   ]
  },
  {
   "cell_type": "code",
   "execution_count": 38,
   "id": "5b0f6488",
   "metadata": {},
   "outputs": [
    {
     "name": "stdout",
     "output_type": "stream",
     "text": [
      "{'name': 'sai', 'nickname': 'kumar'}\n"
     ]
    }
   ],
   "source": [
    "def fun_name(**kedhar):\n",
    "    print(kedhar)\n",
    "fun_name(name=\"sai\",nickname=\"kumar\")\n"
   ]
  },
  {
   "cell_type": "code",
   "execution_count": 43,
   "id": "147f45cd",
   "metadata": {},
   "outputs": [
    {
     "name": "stdout",
     "output_type": "stream",
     "text": [
      "my native place is  hindhupur\n",
      "my native place is  dharmavaram\n",
      "my native place is  madhyapradesh\n",
      "my native place is  anantapur\n"
     ]
    }
   ],
   "source": [
    "def fun_name(city=\"anantapur\"):\n",
    "        print(\"my native place is \",city)\n",
    "fun_name(\"hindhupur\")\n",
    "fun_name(\"dharmavaram\")\n",
    "fun_name(\"madhyapradesh\")\n",
    "fun_name()\n"
   ]
  },
  {
   "cell_type": "code",
   "execution_count": null,
   "id": "a996924b",
   "metadata": {},
   "outputs": [],
   "source": []
  }
 ],
 "metadata": {
  "kernelspec": {
   "display_name": "Python 3 (ipykernel)",
   "language": "python",
   "name": "python3"
  },
  "language_info": {
   "codemirror_mode": {
    "name": "ipython",
    "version": 3
   },
   "file_extension": ".py",
   "mimetype": "text/x-python",
   "name": "python",
   "nbconvert_exporter": "python",
   "pygments_lexer": "ipython3",
   "version": "3.11.5"
  }
 },
 "nbformat": 4,
 "nbformat_minor": 5
}
