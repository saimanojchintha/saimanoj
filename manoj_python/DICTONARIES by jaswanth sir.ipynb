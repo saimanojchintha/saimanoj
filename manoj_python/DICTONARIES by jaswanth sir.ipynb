{
 "cells": [
  {
   "cell_type": "code",
   "execution_count": 7,
   "id": "357d07cf",
   "metadata": {},
   "outputs": [
    {
     "name": "stdout",
     "output_type": "stream",
     "text": [
      "{'car name': 'sai manoj', 'model': 'tesla', 'price': '3.2billions', 'manufactured': 2019}\n"
     ]
    }
   ],
   "source": [
    "thedict={\n",
    "    \"car name\":\"sai manoj\",\n",
    "    \"model\":\"tesla\",\n",
    "    \"price\":\"3.2billions\",\n",
    "    \"manufactured\":2019\n",
    "}\n",
    "print(thedict)"
   ]
  },
  {
   "cell_type": "code",
   "execution_count": 8,
   "id": "c9885a7c",
   "metadata": {},
   "outputs": [
    {
     "data": {
      "text/plain": [
       "{'car name': 'sai manoj',\n",
       " 'model': 'tesla',\n",
       " 'price': '3.2billions',\n",
       " 'manufactured': 2019}"
      ]
     },
     "execution_count": 8,
     "metadata": {},
     "output_type": "execute_result"
    }
   ],
   "source": [
    "thedict"
   ]
  },
  {
   "cell_type": "code",
   "execution_count": 11,
   "id": "a0961dd7",
   "metadata": {},
   "outputs": [
    {
     "name": "stdout",
     "output_type": "stream",
     "text": [
      "tesla\n"
     ]
    }
   ],
   "source": [
    "print(thedict[\"model\"])"
   ]
  },
  {
   "cell_type": "code",
   "execution_count": 15,
   "id": "adf26187",
   "metadata": {},
   "outputs": [
    {
     "name": "stdout",
     "output_type": "stream",
     "text": [
      "{'name': 'maruthi suziki', 'model': 'nexas 200', 'publishedyear': '2000'}\n"
     ]
    }
   ],
   "source": [
    "thisdict=dict(name=\"maruthi suziki\",model=\"nexas 200\",publishedyear=\"2000\")\n",
    "print(thisdict)"
   ]
  },
  {
   "cell_type": "code",
   "execution_count": 16,
   "id": "4195ab05",
   "metadata": {},
   "outputs": [
    {
     "data": {
      "text/plain": [
       "{'name': 'maruthi suziki', 'model': 'nexas 200', 'publishedyear': '2000'}"
      ]
     },
     "execution_count": 16,
     "metadata": {},
     "output_type": "execute_result"
    }
   ],
   "source": [
    "thisdict"
   ]
  },
  {
   "cell_type": "code",
   "execution_count": null,
   "id": "31e5772c",
   "metadata": {},
   "outputs": [],
   "source": [
    "thisdict[\"speciality\"] = \"automative\"\n",
    "thisdict[\"breaksystem\"] = \"piolot\""
   ]
  },
  {
   "cell_type": "code",
   "execution_count": 1,
   "id": "48b14e83",
   "metadata": {},
   "outputs": [
    {
     "name": "stdout",
     "output_type": "stream",
     "text": [
      "{'car name': 'sai manoj', 'model': 'tesla', 'price': '3.2billions', 'manufactured': 2019}\n"
     ]
    }
   ],
   "source": [
    "mansoon={\n",
    "    \"car name\":\"sai manoj\",\n",
    "    \"model\":\"tesla\",\n",
    "    \"price\":\"3.2billions\",\n",
    "    \"manufactured\":2019\n",
    "}\n",
    "print(mansoon)"
   ]
  },
  {
   "cell_type": "code",
   "execution_count": 2,
   "id": "353f1506",
   "metadata": {},
   "outputs": [
    {
     "data": {
      "text/plain": [
       "'tesla'"
      ]
     },
     "execution_count": 2,
     "metadata": {},
     "output_type": "execute_result"
    }
   ],
   "source": [
    "x=mansoon[\"model\"]\n",
    "x"
   ]
  },
  {
   "cell_type": "code",
   "execution_count": 3,
   "id": "535c3710",
   "metadata": {},
   "outputs": [],
   "source": [
    "mansoon[\"speciality\"] = \"automative\"\n",
    "mansoon[\"breaksystem\"] = \"piolot\""
   ]
  },
  {
   "cell_type": "code",
   "execution_count": 4,
   "id": "6bc089d0",
   "metadata": {},
   "outputs": [
    {
     "data": {
      "text/plain": [
       "{'car name': 'sai manoj',\n",
       " 'model': 'tesla',\n",
       " 'price': '3.2billions',\n",
       " 'manufactured': 2019,\n",
       " 'speciality': 'automative',\n",
       " 'breaksystem': 'piolot'}"
      ]
     },
     "execution_count": 4,
     "metadata": {},
     "output_type": "execute_result"
    }
   ],
   "source": [
    "mansoon"
   ]
  },
  {
   "cell_type": "code",
   "execution_count": 6,
   "id": "19b01e23",
   "metadata": {},
   "outputs": [
    {
     "data": {
      "text/plain": [
       "'automative'"
      ]
     },
     "execution_count": 6,
     "metadata": {},
     "output_type": "execute_result"
    }
   ],
   "source": [
    "x=mansoon.get(\"speciality\")\n",
    "x"
   ]
  },
  {
   "cell_type": "code",
   "execution_count": 9,
   "id": "a62e70c3",
   "metadata": {},
   "outputs": [
    {
     "data": {
      "text/plain": [
       "dict_keys(['car name', 'model', 'price', 'manufactured', 'speciality', 'breaksystem'])"
      ]
     },
     "execution_count": 9,
     "metadata": {},
     "output_type": "execute_result"
    }
   ],
   "source": [
    "x=mansoon.keys()\n",
    "x"
   ]
  },
  {
   "cell_type": "code",
   "execution_count": 11,
   "id": "5124f4b0",
   "metadata": {},
   "outputs": [
    {
     "data": {
      "text/plain": [
       "dict_values(['sai manoj', 'tesla', '3.2billions', 2019, 'automative', 'piolot'])"
      ]
     },
     "execution_count": 11,
     "metadata": {},
     "output_type": "execute_result"
    }
   ],
   "source": [
    "x=mansoon.values()\n",
    "x"
   ]
  },
  {
   "cell_type": "code",
   "execution_count": 12,
   "id": "dd481fb4",
   "metadata": {},
   "outputs": [
    {
     "data": {
      "text/plain": [
       "dict_items([('car name', 'sai manoj'), ('model', 'tesla'), ('price', '3.2billions'), ('manufactured', 2019), ('speciality', 'automative'), ('breaksystem', 'piolot')])"
      ]
     },
     "execution_count": 12,
     "metadata": {},
     "output_type": "execute_result"
    }
   ],
   "source": [
    "x=mansoon.items()\n",
    "x"
   ]
  },
  {
   "cell_type": "code",
   "execution_count": 11,
   "id": "f7003dff",
   "metadata": {},
   "outputs": [],
   "source": [
    "manoj={\n",
    "    \"glossary\": {\n",
    "        \"title\": \"example glossary\",\n",
    "\t\t\"GlossDiv\": {\n",
    "            \"title\": \"S\",\n",
    "\t\t\t\"GlossList\": {\n",
    "                \"GlossEntry\": {\n",
    "                    \"ID\": \"SGML\",\n",
    "\t\t\t\t\t\"SortAs\": \"SGML\",\n",
    "\t\t\t\t\t\"GlossTerm\": \"Standard Generalized Markup Language\",\n",
    "\t\t\t\t\t\"Acronym\": \"SGML\",\n",
    "\t\t\t\t\t\"Abbrev\": \"ISO 8879:1986\",\n",
    "\t\t\t\t\t\"GlossDef\": {\n",
    "                        \"para\": \"A meta-markup language, used to create markup languages such as DocBook.\",\n",
    "\t\t\t\t\t\t\"GlossSeeAlso\": [\"GML\", \"XML\"]\n",
    "                    },\n",
    "\t\t\t\t\t\"GlossSee\": \"markup\"\n",
    "                }\n",
    "            }\n",
    "        }\n",
    "    }\n",
    "}\n"
   ]
  },
  {
   "cell_type": "code",
   "execution_count": 12,
   "id": "bc7d2376",
   "metadata": {},
   "outputs": [
    {
     "name": "stdout",
     "output_type": "stream",
     "text": [
      "{'glossary': {'title': 'example glossary', 'GlossDiv': {'title': 'S', 'GlossList': {'GlossEntry': {'ID': 'SGML', 'SortAs': 'SGML', 'GlossTerm': 'Standard Generalized Markup Language', 'Acronym': 'SGML', 'Abbrev': 'ISO 8879:1986', 'GlossDef': {'para': 'A meta-markup language, used to create markup languages such as DocBook.', 'GlossSeeAlso': ['GML', 'XML']}, 'GlossSee': 'markup'}}}}}\n"
     ]
    }
   ],
   "source": [
    "print(manoj)"
   ]
  },
  {
   "cell_type": "code",
   "execution_count": 35,
   "id": "4e1708ce",
   "metadata": {},
   "outputs": [
    {
     "data": {
      "text/plain": [
       "'SGML'"
      ]
     },
     "execution_count": 35,
     "metadata": {},
     "output_type": "execute_result"
    }
   ],
   "source": [
    "manoj[\"glossary\"][\"GlossDiv\"][\"GlossList\"][\"GlossEntry\"][\"ID\"]"
   ]
  },
  {
   "cell_type": "code",
   "execution_count": 5,
   "id": "89061821",
   "metadata": {},
   "outputs": [
    {
     "name": "stdout",
     "output_type": "stream",
     "text": [
      "{'car name': 'sai manoj', 'model': 'tesla', 'price': '3.2billions', 'manufactured': 2023}\n"
     ]
    }
   ],
   "source": [
    "mansoon={\n",
    "    \"car name\":\"sai manoj\",\n",
    "    \"model\":\"tesla\",\n",
    "    \"price\":\"3.2billions\",\n",
    "    \"manufactured\":2019\n",
    "}\n",
    "mansoon[\"manufactured\"]=2023\n",
    "print(mansoon)"
   ]
  },
  {
   "cell_type": "code",
   "execution_count": 6,
   "id": "1376dad0",
   "metadata": {},
   "outputs": [
    {
     "name": "stdout",
     "output_type": "stream",
     "text": [
      "{'car name': 'sai manoj', 'model': 'tesla', 'price': '3.2billions', 'manufactured': 2023}\n"
     ]
    }
   ],
   "source": [
    "print(mansoon)"
   ]
  },
  {
   "cell_type": "code",
   "execution_count": 15,
   "id": "9315373d",
   "metadata": {},
   "outputs": [
    {
     "name": "stdout",
     "output_type": "stream",
     "text": [
      "{'car name': 'sai manoj', 'model': 'tesla', 'price': '3.2billions', 'manufactured': 2001}\n"
     ]
    }
   ],
   "source": [
    "mansoon={\n",
    "    \"car name\":\"sai manoj\",\n",
    "    \"model\":\"tesla\",\n",
    "    \"price\":\"3.2billions\",\n",
    "    \"manufactured\":2019\n",
    "}\n",
    "mansoon.update({\"manufactured\":2001})\n",
    "print(mansoon)"
   ]
  },
  {
   "cell_type": "code",
   "execution_count": 16,
   "id": "983b9081",
   "metadata": {},
   "outputs": [
    {
     "name": "stdout",
     "output_type": "stream",
     "text": [
      "{'car name': 'sai manoj', 'model': 'tesla', 'price': '3.2billions', 'manufactured': 'not defined', 'brand': 'Nexon'}\n"
     ]
    }
   ],
   "source": [
    "mansoon={\n",
    "    \"car name\":\"sai manoj\",\n",
    "    \"model\":\"tesla\",\n",
    "    \"price\":\"3.2billions\",\n",
    "    \"manufactured\":2019\n",
    "}\n",
    "mansoon.update({\"manufactured\":\"not defined\",\"brand\":\"Nexon\"})\n",
    "print(mansoon)"
   ]
  },
  {
   "cell_type": "code",
   "execution_count": 20,
   "id": "15d19670",
   "metadata": {},
   "outputs": [
    {
     "name": "stdout",
     "output_type": "stream",
     "text": [
      "{'car name': 'kia', 'model': 'tesla', 'price': '3.2billions', 'manufactured': 2019}\n"
     ]
    }
   ],
   "source": [
    "mansoon={\n",
    "    \"car name\":\"sai manoj\",\n",
    "    \"model\":\"tesla\",\n",
    "    \"price\":\"3.2billions\",\n",
    "    \"manufactured\":2019\n",
    "}\n",
    "mansoon[\"car name\"]=\"kia\"\n",
    "print(mansoon)"
   ]
  },
  {
   "cell_type": "code",
   "execution_count": 22,
   "id": "a5b0be8f",
   "metadata": {},
   "outputs": [
    {
     "name": "stdout",
     "output_type": "stream",
     "text": [
      "{'model': 'tesla', 'price': '3.2billions', 'manufactured': 'not defined', 'brand': 'Nexon'}\n"
     ]
    }
   ],
   "source": [
    "mansoon={'car name': 'sai manoj', 'model': 'tesla', 'price': '3.2billions', 'manufactured': 'not defined', 'brand': 'Nexon'}\n",
    "mansoon.pop(\"car name\") \n",
    "print(mansoon)"
   ]
  },
  {
   "cell_type": "code",
   "execution_count": 24,
   "id": "3611112e",
   "metadata": {},
   "outputs": [
    {
     "name": "stdout",
     "output_type": "stream",
     "text": [
      "{'car name': 'sai manoj', 'model': 'tesla', 'price': '3.2billions', 'manufactured': 'not defined'}\n"
     ]
    }
   ],
   "source": [
    "mansoon={'car name': 'sai manoj', 'model': 'tesla', 'price': '3.2billions', 'manufactured': 'not defined', 'brand': 'Nexon'}\n",
    "mansoon.popitem() \n",
    "print(mansoon)"
   ]
  },
  {
   "cell_type": "code",
   "execution_count": 25,
   "id": "f99f1ab9",
   "metadata": {},
   "outputs": [
    {
     "name": "stdout",
     "output_type": "stream",
     "text": [
      "{'car name': 'sai manoj', 'model': 'tesla', 'manufactured': 'not defined', 'brand': 'Nexon'}\n"
     ]
    }
   ],
   "source": [
    "mansoon={'car name': 'sai manoj', 'model': 'tesla', 'price': '3.2billions', 'manufactured': 'not defined', 'brand': 'Nexon'}\n",
    "del mansoon[\"price\"] \n",
    "print(mansoon)"
   ]
  },
  {
   "cell_type": "code",
   "execution_count": 26,
   "id": "97e10cc0",
   "metadata": {},
   "outputs": [
    {
     "name": "stdout",
     "output_type": "stream",
     "text": [
      "{}\n"
     ]
    }
   ],
   "source": [
    "mansoon={'car name': 'sai manoj', 'model': 'tesla', 'price': '3.2billions', 'manufactured': 'not defined', 'brand': 'Nexon'}\n",
    "mansoon.clear()\n",
    "print(mansoon)"
   ]
  },
  {
   "cell_type": "code",
   "execution_count": 1,
   "id": "dbfd39be",
   "metadata": {},
   "outputs": [
    {
     "name": "stdout",
     "output_type": "stream",
     "text": [
      "{'car name': 'sai manoj', 'model': 'tesla', 'manufactured': 'not defined', 'brand': 'Nexon'}\n"
     ]
    }
   ],
   "source": [
    "mansoon={'car name': 'sai manoj', 'model': 'tesla', 'price': '3.2billions', 'manufactured': 'not defined', 'brand': 'Nexon'}\n",
    "del mansoon[\"price\"] \n",
    "print(mansoon)"
   ]
  },
  {
   "cell_type": "code",
   "execution_count": 2,
   "id": "04065d1f",
   "metadata": {},
   "outputs": [
    {
     "name": "stdout",
     "output_type": "stream",
     "text": [
      "car name\n",
      "model\n",
      "manufactured\n",
      "brand\n"
     ]
    }
   ],
   "source": [
    "for x in mansoon:\n",
    "    print(x)"
   ]
  },
  {
   "cell_type": "code",
   "execution_count": 3,
   "id": "cccffc7b",
   "metadata": {},
   "outputs": [
    {
     "data": {
      "text/plain": [
       "'sai manoj'"
      ]
     },
     "execution_count": 3,
     "metadata": {},
     "output_type": "execute_result"
    }
   ],
   "source": [
    "mansoon[\"car name\"]"
   ]
  },
  {
   "cell_type": "code",
   "execution_count": null,
   "id": "9bfa6380",
   "metadata": {},
   "outputs": [],
   "source": []
  }
 ],
 "metadata": {
  "kernelspec": {
   "display_name": "Python 3 (ipykernel)",
   "language": "python",
   "name": "python3"
  },
  "language_info": {
   "codemirror_mode": {
    "name": "ipython",
    "version": 3
   },
   "file_extension": ".py",
   "mimetype": "text/x-python",
   "name": "python",
   "nbconvert_exporter": "python",
   "pygments_lexer": "ipython3",
   "version": "3.11.5"
  }
 },
 "nbformat": 4,
 "nbformat_minor": 5
}
