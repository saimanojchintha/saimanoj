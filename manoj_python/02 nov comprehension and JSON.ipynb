{
 "cells": [
  {
   "cell_type": "code",
   "execution_count": 2,
   "id": "0f3590a7",
   "metadata": {},
   "outputs": [
    {
     "data": {
      "text/plain": [
       "['banana', 'cabbage', 'bendakai']"
      ]
     },
     "execution_count": 2,
     "metadata": {},
     "output_type": "execute_result"
    }
   ],
   "source": [
    "fruits={\"apple\",\"bendakai\",\"banana\",\"cabbage\"}\n",
    "manoj=[i for i in fruits if 'b'in i]\n",
    "manoj"
   ]
  },
  {
   "cell_type": "code",
   "execution_count": 3,
   "id": "3b8258f7",
   "metadata": {},
   "outputs": [
    {
     "data": {
      "text/plain": [
       "['banana', 'apple', 'cabbage', 'bendakai']"
      ]
     },
     "execution_count": 3,
     "metadata": {},
     "output_type": "execute_result"
    }
   ],
   "source": [
    "fruits={\"apple\",\"bendakai\",\"banana\",\"cabbage\"}\n",
    "manoj=[i for i in fruits if 'a'in i]\n",
    "manoj"
   ]
  },
  {
   "cell_type": "code",
   "execution_count": 4,
   "id": "0e538564",
   "metadata": {},
   "outputs": [
    {
     "data": {
      "text/plain": [
       "[7, 14, 35, 42]"
      ]
     },
     "execution_count": 4,
     "metadata": {},
     "output_type": "execute_result"
    }
   ],
   "source": [
    "number=[1,5,7,14,23,35,42,50]\n",
    "newlist=[i for i in number if i%7==0]\n",
    "newlist"
   ]
  },
  {
   "cell_type": "code",
   "execution_count": 5,
   "id": "4287a460",
   "metadata": {},
   "outputs": [
    {
     "data": {
      "text/plain": [
       "['none', 'none', 7, 14, 'none', 35, 42, 'none']"
      ]
     },
     "execution_count": 5,
     "metadata": {},
     "output_type": "execute_result"
    }
   ],
   "source": [
    "number=[1,5,7,14,23,35,42,50]\n",
    "newlist=[i if i%7==0 else 'none' for i in number]\n",
    "newlist"
   ]
  },
  {
   "cell_type": "code",
   "execution_count": 7,
   "id": "90ff181b",
   "metadata": {},
   "outputs": [
    {
     "data": {
      "text/plain": [
       "['banana', 'apple', 'cabbage', 'none']"
      ]
     },
     "execution_count": 7,
     "metadata": {},
     "output_type": "execute_result"
    }
   ],
   "source": [
    "fruits={\"apple\",\"bendakai\",\"banana\",\"cabbage\"}\n",
    "manoj=[i if i!=\"bendakai\" else 'none' for i in fruits]\n",
    "manoj"
   ]
  },
  {
   "cell_type": "code",
   "execution_count": 14,
   "id": "c02c195b",
   "metadata": {},
   "outputs": [
    {
     "name": "stdout",
     "output_type": "stream",
     "text": [
      "<class 'zip'>\n",
      "(('banana', 'onion'), ('apple', 'potato'), ('cabbage', 'tomato'))\n"
     ]
    }
   ],
   "source": [
    "a={\"apple\",\"bendakai\",\"banana\",\"cabbage\"}\n",
    "b={\"potato\",\"onion\",\"tomato\"}\n",
    "y=zip(a,b)\n",
    "print(type(y))\n",
    "print(tuple(y))"
   ]
  },
  {
   "cell_type": "code",
   "execution_count": 16,
   "id": "eaeac9a8",
   "metadata": {},
   "outputs": [
    {
     "name": "stdout",
     "output_type": "stream",
     "text": [
      "<class 'zip'>\n",
      "(('banana', 'onion'), ('apple', 'potato'), ('cabbage', 'tomato'))\n"
     ]
    }
   ],
   "source": [
    "a={\"potato\",\"onion\",\"tomato\"}\n",
    "b={\"apple\",\"bendakai\",\"banana\",\"cabbage\"}\n",
    "\n",
    "y=zip(b,a)\n",
    "print(type(y))\n",
    "print(tuple(y))"
   ]
  },
  {
   "cell_type": "code",
   "execution_count": 35,
   "id": "af342ab4",
   "metadata": {},
   "outputs": [
    {
     "name": "stdout",
     "output_type": "stream",
     "text": [
      "<class 'zip'>\n",
      "(('onion', 'banana', 'cricket'), ('brinjal', 'apple', 'khoho'), ('potato', 'cabbage', 'kabaddi'), ('tomato', 'bendakai', 'volleyball'))\n"
     ]
    }
   ],
   "source": [
    "a={\"potato\",\"onion\",\"tomato\",\"brinjal\"}\n",
    "b={\"apple\",\"bendakai\",\"banana\",\"cabbage\"}\n",
    "c={\"cricket\",\"kabaddi\",\"khoho\",\"volleyball\"}\n",
    "y=zip(a,b,c)\n",
    "print(type(y))\n",
    "print(tuple(y))"
   ]
  },
  {
   "cell_type": "code",
   "execution_count": 20,
   "id": "209b7067",
   "metadata": {},
   "outputs": [
    {
     "name": "stdout",
     "output_type": "stream",
     "text": [
      "<class 'dict'>\n",
      "{'fav': 'apple', 'pareledhu': 'bendakai', 'average': 'banana', 'hatred': 'cabbage'}\n"
     ]
    }
   ],
   "source": [
    "import json\n",
    "a='{\"fav\":\"apple\",\"pareledhu\":\"bendakai\",\"average\":\"banana\",\"hatred\":\"cabbage\"}'\n",
    "y=json.loads(a)\n",
    "print(type(y))\n",
    "print(y)\n"
   ]
  },
  {
   "cell_type": "code",
   "execution_count": 42,
   "id": "a8276c2d",
   "metadata": {},
   "outputs": [
    {
     "name": "stdout",
     "output_type": "stream",
     "text": [
      "<class 'str'>\n",
      "\"{\\\"fav\\\":\\\"apple\\\",\\\"pareledhu\\\":\\\"bendakai\\\",\\\"average\\\":\\\"banana\\\",\\\"hatred\\\":\\\"cabbage\\\"}\"\n"
     ]
    }
   ],
   "source": [
    "import json\n",
    "a='{\"fav\":\"apple\",\"pareledhu\":\"bendakai\",\"average\":\"banana\",\"hatred\":\"cabbage\"}'\n",
    "y=json.dumps(a)\n",
    "print(type(y))\n",
    "print(y)\n"
   ]
  },
  {
   "cell_type": "code",
   "execution_count": 22,
   "id": "ddda41ab",
   "metadata": {},
   "outputs": [
    {
     "name": "stdout",
     "output_type": "stream",
     "text": [
      "<class 'dict'>\n",
      "{\"menu\": {\"id\": \"file\", \"value\": \"File\", \"popup\": {\"menuitem\": [{\"value\": \"New\", \"onclick\": \"CreateDoc()\"}, {\"value\": \"Open\", \"onclick\": \"OpenDoc()\"}, {\"value\": \"Save\", \"onclick\": \"SaveDoc()\"}]}}}\n"
     ]
    }
   ],
   "source": [
    "import json\n",
    "x={\"menu\": {  \n",
    "  \"id\": \"file\",  \n",
    "  \"value\": \"File\",  \n",
    "  \"popup\": {  \n",
    "    \"menuitem\": [  \n",
    "      {\"value\": \"New\", \"onclick\": \"CreateDoc()\"},  \n",
    "      {\"value\": \"Open\", \"onclick\": \"OpenDoc()\"},  \n",
    "      {\"value\": \"Save\", \"onclick\": \"SaveDoc()\"}  \n",
    "    ]  \n",
    "  }  \n",
    "}\n",
    "}\n",
    "y=json.dumps(x)\n",
    "print(type(x))\n",
    "print(y)"
   ]
  },
  {
   "cell_type": "markdown",
   "id": "21080932",
   "metadata": {},
   "source": [
    "# Task 1\n"
   ]
  },
  {
   "cell_type": "code",
   "execution_count": 25,
   "id": "1e0e3401",
   "metadata": {},
   "outputs": [
    {
     "ename": "SyntaxError",
     "evalue": "invalid syntax. Perhaps you forgot a comma? (3651502759.py, line 2)",
     "output_type": "error",
     "traceback": [
      "\u001b[1;36m  Cell \u001b[1;32mIn[25], line 2\u001b[1;36m\u001b[0m\n\u001b[1;33m    manoj=[i i=0 while i in fruits if 'a'in i i=i++]\u001b[0m\n\u001b[1;37m           ^\u001b[0m\n\u001b[1;31mSyntaxError\u001b[0m\u001b[1;31m:\u001b[0m invalid syntax. Perhaps you forgot a comma?\n"
     ]
    }
   ],
   "source": [
    "fruits={\"apple\",\"bendakai\",\"banana\",\"cabbage\"}\n",
    "manoj=[i i=0 while i in fruits if 'a'in i i=i++]\n",
    "manoj"
   ]
  },
  {
   "cell_type": "raw",
   "id": "3e1e9507",
   "metadata": {},
   "source": [
    "A while loop is not possible inside of a list comprehension. Instead, you could do something like this: No, you cannot use while in a list comprehension. There is not a single while statement allowed anywhere. The only keywords you are allowed to use is a for, for a for loop."
   ]
  },
  {
   "cell_type": "code",
   "execution_count": 26,
   "id": "392f7907",
   "metadata": {},
   "outputs": [
    {
     "name": "stdout",
     "output_type": "stream",
     "text": [
      "['a', 'b', 'b', 'c', 'a', 'c']\n"
     ]
    }
   ],
   "source": [
    "a_list = [1, 2, 2, 5, 1, 9]\n",
    "new_list = ['a' if item == 1 else 'b' if item == 2 else 'c' for item in a_list]\n",
    "print(new_list)"
   ]
  },
  {
   "cell_type": "code",
   "execution_count": 33,
   "id": "e55a195b",
   "metadata": {},
   "outputs": [
    {
     "name": "stdout",
     "output_type": "stream",
     "text": [
      "['asallam walekum', 'apple', 'asallam walekum', 'bendakai']\n"
     ]
    }
   ],
   "source": [
    "fruits={\"apple\",\"bendakai\",\"banana\",\"cabbage\"}\n",
    "manoj=[i if i==\"apple\" else \"bendakai\" if i==\"bendakai\" else \"asallam walekum\" for i in fruits]\n",
    "print(manoj)"
   ]
  },
  {
   "cell_type": "markdown",
   "id": "71ec0ea0",
   "metadata": {},
   "source": [
    "# Task 2\n"
   ]
  },
  {
   "cell_type": "code",
   "execution_count": 40,
   "id": "c784b414",
   "metadata": {},
   "outputs": [
    {
     "name": "stdout",
     "output_type": "stream",
     "text": [
      "(0, 'banana')\n",
      "(1, 'apple')\n",
      "(2, 'cabbage')\n",
      "(3, 'bendakai')\n"
     ]
    }
   ],
   "source": [
    "fruits={\"apple\",\"bendakai\",\"banana\",\"cabbage\"}\n",
    "for i in enumerate(fruits):\n",
    "     print(i)"
   ]
  },
  {
   "cell_type": "code",
   "execution_count": 47,
   "id": "3564e663",
   "metadata": {},
   "outputs": [
    {
     "name": "stdout",
     "output_type": "stream",
     "text": [
      "potato -> apple\n",
      "onion -> bendakai\n",
      "tomato -> banana\n"
     ]
    }
   ],
   "source": [
    "a=[\"potato\",\"onion\",\"tomato\"]\n",
    "b=[\"apple\",\"bendakai\",\"banana\",\"cabbage\"]\n",
    "for a,b in zip(a,b):\n",
    "    print(f'{a} -> {b}')"
   ]
  },
  {
   "cell_type": "code",
   "execution_count": 48,
   "id": "ba23ac68",
   "metadata": {},
   "outputs": [
    {
     "name": "stdout",
     "output_type": "stream",
     "text": [
      "0 potato apple\n",
      "1 onion bendakai\n",
      "2 tomato banana\n"
     ]
    }
   ],
   "source": [
    "a=(\"potato\",\"onion\",\"tomato\")\n",
    "b=(\"apple\",\"bendakai\",\"banana\",\"cabbage\")\n",
    "for i,(a,b) in enumerate(zip(a,b)):\n",
    "    print(i,a,b)"
   ]
  },
  {
   "cell_type": "markdown",
   "id": "f0a54294",
   "metadata": {},
   "source": [
    "#S"
   ]
  },
  {
   "cell_type": "code",
   "execution_count": null,
   "id": "c0d3fb18",
   "metadata": {},
   "outputs": [],
   "source": []
  }
 ],
 "metadata": {
  "kernelspec": {
   "display_name": "Python 3 (ipykernel)",
   "language": "python",
   "name": "python3"
  },
  "language_info": {
   "codemirror_mode": {
    "name": "ipython",
    "version": 3
   },
   "file_extension": ".py",
   "mimetype": "text/x-python",
   "name": "python",
   "nbconvert_exporter": "python",
   "pygments_lexer": "ipython3",
   "version": "3.11.5"
  }
 },
 "nbformat": 4,
 "nbformat_minor": 5
}
