{
 "cells": [
  {
   "cell_type": "code",
   "execution_count": 4,
   "id": "cc80592e",
   "metadata": {},
   "outputs": [
    {
     "name": "stdout",
     "output_type": "stream",
     "text": [
      "my name is saimanoj and my age is 22\n"
     ]
    }
   ],
   "source": [
    "#1 python program to create a function that takes two arguments ,name and age an that takes two arguments.\n",
    "\n",
    "def my_function(name,age):\n",
    "    \n",
    "    print(f'my name is {name} and my age is {age}')\n",
    "my_function('saimanoj',22)\n"
   ]
  },
  {
   "cell_type": "code",
   "execution_count": 18,
   "id": "51d0af2d",
   "metadata": {},
   "outputs": [
    {
     "name": "stdout",
     "output_type": "stream",
     "text": [
      "employee name is manoj and salary is 90000\n"
     ]
    }
   ],
   "source": [
    "#2.Write a program to create a function show_employee() using the following conditions.\n",
    "\n",
    "#a.It should accept the employee’s name and salary and display both.\n",
    "\n",
    "def show_employee(employeesname=\"manoj\",salary=90000):\n",
    "    print(f'employee name is {employeesname} and salary is {salary}')\n",
    "show_employee(\"manoj\",\"90000\")"
   ]
  },
  {
   "cell_type": "code",
   "execution_count": 20,
   "id": "51c019e3",
   "metadata": {},
   "outputs": [
    {
     "name": "stdout",
     "output_type": "stream",
     "text": [
      "employee name is manoj and salary is 90000\n"
     ]
    }
   ],
   "source": [
    "#b.If the salary is missing in the function call then assign default value 9000 to salary\n",
    "\n",
    "\n",
    "def show_employee(employeesname,salary=90000):\n",
    "    print(f'employee name is {employeesname} and salary is {salary}')\n",
    "show_employee(\"manoj\")"
   ]
  },
  {
   "cell_type": "code",
   "execution_count": 35,
   "id": "abd38639",
   "metadata": {},
   "outputs": [
    {
     "name": "stdout",
     "output_type": "stream",
     "text": [
      "my name is : MANOJ\n"
     ]
    }
   ],
   "source": [
    "#3.Define a function that accepts lowercase words and returns uppercase words.\n",
    "\n",
    "def my_fun(name):\n",
    "    print('my name is :',name.upper())\n",
    "    \n",
    "my_fun(\"manoj\")"
   ]
  },
  {
   "cell_type": "code",
   "execution_count": 37,
   "id": "efe86067",
   "metadata": {},
   "outputs": [
    {
     "name": "stdout",
     "output_type": "stream",
     "text": [
      "sum is 15,subtraction is -5,multipication is 50\n"
     ]
    }
   ],
   "source": [
    "#4 Define a function that accepts 2 values and return its sum, subtraction and multiplication\n",
    "\n",
    "def my_fun(a,b):\n",
    "    sum=a+b\n",
    "    sub=a-b\n",
    "    mul=a*b\n",
    "    print(f'sum is {sum},subtraction is {sub},multipication is {mul}')\n",
    "my_fun(5,10)"
   ]
  },
  {
   "cell_type": "code",
   "execution_count": null,
   "id": "3c1eec77",
   "metadata": {},
   "outputs": [],
   "source": []
  }
 ],
 "metadata": {
  "kernelspec": {
   "display_name": "Python 3 (ipykernel)",
   "language": "python",
   "name": "python3"
  },
  "language_info": {
   "codemirror_mode": {
    "name": "ipython",
    "version": 3
   },
   "file_extension": ".py",
   "mimetype": "text/x-python",
   "name": "python",
   "nbconvert_exporter": "python",
   "pygments_lexer": "ipython3",
   "version": "3.11.5"
  }
 },
 "nbformat": 4,
 "nbformat_minor": 5
}
